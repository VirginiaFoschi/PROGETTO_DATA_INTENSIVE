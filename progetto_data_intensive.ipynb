{
  "cells": [
    {
      "cell_type": "markdown",
      "source": [
        "#Prevedere il numero di noleggi orario di biciclette\n",
        "\n",
        "**Programmazione di Applicazioni Data Intensive**  \n",
        "Laurea in Ingegneria e Scienze Informatiche  \n",
        "DISI - Università di Bologna, Cesena\n",
        "\n",
        "Virginia Foschi     \n",
        "Matricola: 0001030497"
      ],
      "metadata": {
        "id": "FdDyM-htn_uN"
      }
    },
    {
      "cell_type": "markdown",
      "source": [
        "##Introduzione\n",
        "Negli ultimi anni, l'uso delle biciclette come mezzo di trasporto ha registrato un aumento significativo, grazie alla sua sostenibilità ambientale, alla facilità d'uso e alla promozione di uno stile di vita attivo. In molti contesti urbani, i sistemi di bike-sharing hanno reso le biciclette facilmente accessibili agli utenti, consentendo loro di noleggiarle per brevi periodi di tempo.\n",
        "\n",
        "A seguito di un'analisi dei dati raccolti da sistemi di bike-sharing londinese, l'obiettivo del progetto è quindi identificare il modello di regressione più accurato nel predire il numero di noleggi orario di biciclette sulla base delle condizioni meteorologiche."
      ],
      "metadata": {
        "id": "cCMYgglDUH_O"
      }
    },
    {
      "cell_type": "markdown",
      "metadata": {
        "id": "l7UNnRDV2kBx"
      },
      "source": [
        "###Caricamento Librerie\n",
        "Per prima cosa carichiamo le librerie per effettuare operazioni sui dati\n",
        "\n",
        "- _NumPy_ per creare e operare su array a N dimensioni\n",
        "- _pandas_ per caricare e manipolare dati tabulari\n",
        "- _matplotlib_ per creare grafici\n",
        "\n",
        "Importiamo le librerie usando i loro alias convenzionali"
      ]
    },
    {
      "cell_type": "code",
      "execution_count": 49,
      "metadata": {
        "id": "gUsduxEB2hFX"
      },
      "outputs": [],
      "source": [
        "import numpy as np\n",
        "import pandas as pd\n",
        "import matplotlib.pyplot as plt\n",
        "import sklearn\n",
        "%matplotlib inline"
      ]
    },
    {
      "cell_type": "markdown",
      "metadata": {
        "id": "SL6RZt_x2qm-"
      },
      "source": [
        "##Caricamento dei dati\n",
        "Carichiamo ora il dataset contenente le condizioni metereologiche e il numero di biciclette noleggiate in ciascuna ora ottenuto da [Kaggle](https://www.kaggle.com/datasets)\n",
        ".\n",
        "\n",
        "Il dataset contiene dati relativi a due anni di noleggi di biciclette a Londra, dal 01/04/2015 al 01/04/2017, con misurazioni orarie del numero di noleggi effettuati e delle condizioni meteorologiche del momento."
      ]
    },
    {
      "cell_type": "markdown",
      "metadata": {
        "id": "FLj9-Tu32sya"
      },
      "source": [
        "###Significato delle colonne\n",
        "\n",
        "Le feature presenti nel Dataset sono:\n",
        "- timestamp: raccoglie informazioni sulla data e l'ora di ogni osservazione.\n",
        "- cnt: è il numero di noleggi effettuati. Corrisponde alla variabile da prevedere.\n",
        "- t1 e t2: sono rispettivamente la temperatura media e la temperatura percepita media per ogni ora.\n",
        "- hum e wind_speed: raccolgono informazioni sull'umidità media e sulla velocità media del vento per ogni ora.\n",
        "- weather_code: indica la situazione meteorologica in forma codificata:\n",
        "  - 1 = Sereno/parzialmente sereno\n",
        "  - 2 = Nuvole sparse/poche nuvole\n",
        "  - 3 = Nuvole irregolari/parzialmente nuvoloso\n",
        "  - 4 = Nuvoloso/nebbia\n",
        "  - 7 = Pioggia/pioggia leggera/rovescio leggero\n",
        "  - 10 = Pioggia con temporale\n",
        "  - 26 = Nevicata\n",
        "  - 94 = Nebbia ghiacciata\n",
        "- is_holiday e is_weekend: assumono il valore \"1\" se il giorno dell'osservazione è un giorno festivo o un giorno del weekend.\n",
        "- season: è un valore compreso tra 0 e 3 (inclusi) che identifica la stagione:\n",
        "  - 0 = spring\n",
        "  - 1 = summer\n",
        "  - 2 = fall\n",
        "  - 3 = winter"
      ]
    },
    {
      "cell_type": "code",
      "execution_count": 50,
      "metadata": {
        "id": "G3URpZP12rQF"
      },
      "outputs": [],
      "source": [
        "import os.path\n",
        "file = \"./london_merged.csv\";\n",
        "if not os.path.exists(file):\n",
        "    print(\"Missing dataset, retrieve it from Kaggle at this link https://www.kaggle.com/datasets/hmavrodiev/london-bike-sharing-dataset\");\n",
        "else:\n",
        "  bike = pd.read_csv(file, index_col=False, encoding='latin1');"
      ]
    },
    {
      "cell_type": "code",
      "execution_count": 51,
      "metadata": {
        "colab": {
          "base_uri": "https://localhost:8080/"
        },
        "id": "ow0kfSFQ4aVU",
        "outputId": "d192a668-690d-4164-96e8-bb85a2de0d1d"
      },
      "outputs": [
        {
          "output_type": "stream",
          "name": "stdout",
          "text": [
            "<class 'pandas.core.frame.DataFrame'>\n",
            "RangeIndex: 17414 entries, 0 to 17413\n",
            "Data columns (total 10 columns):\n",
            " #   Column        Non-Null Count  Dtype  \n",
            "---  ------        --------------  -----  \n",
            " 0   timestamp     17414 non-null  object \n",
            " 1   cnt           17414 non-null  int64  \n",
            " 2   t1            17414 non-null  float64\n",
            " 3   t2            17414 non-null  float64\n",
            " 4   hum           17414 non-null  float64\n",
            " 5   wind_speed    17414 non-null  float64\n",
            " 6   weather_code  17414 non-null  float64\n",
            " 7   is_holiday    17414 non-null  float64\n",
            " 8   is_weekend    17414 non-null  float64\n",
            " 9   season        17414 non-null  float64\n",
            "dtypes: float64(8), int64(1), object(1)\n",
            "memory usage: 2.5 MB\n"
          ]
        }
      ],
      "source": [
        "bike.info(memory_usage=\"deep\");"
      ]
    },
    {
      "cell_type": "code",
      "execution_count": 52,
      "metadata": {
        "colab": {
          "base_uri": "https://localhost:8080/",
          "height": 206
        },
        "id": "8RYmMbal4cuz",
        "outputId": "dd526cc8-b505-449f-8e2a-1a4ea9bb47a2"
      },
      "outputs": [
        {
          "output_type": "execute_result",
          "data": {
            "text/plain": [
              "             timestamp  cnt   t1   t2    hum  wind_speed  weather_code  \\\n",
              "0  2015-01-04 00:00:00  182  3.0  2.0   93.0         6.0           3.0   \n",
              "1  2015-01-04 01:00:00  138  3.0  2.5   93.0         5.0           1.0   \n",
              "2  2015-01-04 02:00:00  134  2.5  2.5   96.5         0.0           1.0   \n",
              "3  2015-01-04 03:00:00   72  2.0  2.0  100.0         0.0           1.0   \n",
              "4  2015-01-04 04:00:00   47  2.0  0.0   93.0         6.5           1.0   \n",
              "\n",
              "   is_holiday  is_weekend  season  \n",
              "0         0.0         1.0     3.0  \n",
              "1         0.0         1.0     3.0  \n",
              "2         0.0         1.0     3.0  \n",
              "3         0.0         1.0     3.0  \n",
              "4         0.0         1.0     3.0  "
            ],
            "text/html": [
              "\n",
              "  <div id=\"df-2cde8316-920f-4983-9e61-9093b18a4529\" class=\"colab-df-container\">\n",
              "    <div>\n",
              "<style scoped>\n",
              "    .dataframe tbody tr th:only-of-type {\n",
              "        vertical-align: middle;\n",
              "    }\n",
              "\n",
              "    .dataframe tbody tr th {\n",
              "        vertical-align: top;\n",
              "    }\n",
              "\n",
              "    .dataframe thead th {\n",
              "        text-align: right;\n",
              "    }\n",
              "</style>\n",
              "<table border=\"1\" class=\"dataframe\">\n",
              "  <thead>\n",
              "    <tr style=\"text-align: right;\">\n",
              "      <th></th>\n",
              "      <th>timestamp</th>\n",
              "      <th>cnt</th>\n",
              "      <th>t1</th>\n",
              "      <th>t2</th>\n",
              "      <th>hum</th>\n",
              "      <th>wind_speed</th>\n",
              "      <th>weather_code</th>\n",
              "      <th>is_holiday</th>\n",
              "      <th>is_weekend</th>\n",
              "      <th>season</th>\n",
              "    </tr>\n",
              "  </thead>\n",
              "  <tbody>\n",
              "    <tr>\n",
              "      <th>0</th>\n",
              "      <td>2015-01-04 00:00:00</td>\n",
              "      <td>182</td>\n",
              "      <td>3.0</td>\n",
              "      <td>2.0</td>\n",
              "      <td>93.0</td>\n",
              "      <td>6.0</td>\n",
              "      <td>3.0</td>\n",
              "      <td>0.0</td>\n",
              "      <td>1.0</td>\n",
              "      <td>3.0</td>\n",
              "    </tr>\n",
              "    <tr>\n",
              "      <th>1</th>\n",
              "      <td>2015-01-04 01:00:00</td>\n",
              "      <td>138</td>\n",
              "      <td>3.0</td>\n",
              "      <td>2.5</td>\n",
              "      <td>93.0</td>\n",
              "      <td>5.0</td>\n",
              "      <td>1.0</td>\n",
              "      <td>0.0</td>\n",
              "      <td>1.0</td>\n",
              "      <td>3.0</td>\n",
              "    </tr>\n",
              "    <tr>\n",
              "      <th>2</th>\n",
              "      <td>2015-01-04 02:00:00</td>\n",
              "      <td>134</td>\n",
              "      <td>2.5</td>\n",
              "      <td>2.5</td>\n",
              "      <td>96.5</td>\n",
              "      <td>0.0</td>\n",
              "      <td>1.0</td>\n",
              "      <td>0.0</td>\n",
              "      <td>1.0</td>\n",
              "      <td>3.0</td>\n",
              "    </tr>\n",
              "    <tr>\n",
              "      <th>3</th>\n",
              "      <td>2015-01-04 03:00:00</td>\n",
              "      <td>72</td>\n",
              "      <td>2.0</td>\n",
              "      <td>2.0</td>\n",
              "      <td>100.0</td>\n",
              "      <td>0.0</td>\n",
              "      <td>1.0</td>\n",
              "      <td>0.0</td>\n",
              "      <td>1.0</td>\n",
              "      <td>3.0</td>\n",
              "    </tr>\n",
              "    <tr>\n",
              "      <th>4</th>\n",
              "      <td>2015-01-04 04:00:00</td>\n",
              "      <td>47</td>\n",
              "      <td>2.0</td>\n",
              "      <td>0.0</td>\n",
              "      <td>93.0</td>\n",
              "      <td>6.5</td>\n",
              "      <td>1.0</td>\n",
              "      <td>0.0</td>\n",
              "      <td>1.0</td>\n",
              "      <td>3.0</td>\n",
              "    </tr>\n",
              "  </tbody>\n",
              "</table>\n",
              "</div>\n",
              "    <div class=\"colab-df-buttons\">\n",
              "\n",
              "  <div class=\"colab-df-container\">\n",
              "    <button class=\"colab-df-convert\" onclick=\"convertToInteractive('df-2cde8316-920f-4983-9e61-9093b18a4529')\"\n",
              "            title=\"Convert this dataframe to an interactive table.\"\n",
              "            style=\"display:none;\">\n",
              "\n",
              "  <svg xmlns=\"http://www.w3.org/2000/svg\" height=\"24px\" viewBox=\"0 -960 960 960\">\n",
              "    <path d=\"M120-120v-720h720v720H120Zm60-500h600v-160H180v160Zm220 220h160v-160H400v160Zm0 220h160v-160H400v160ZM180-400h160v-160H180v160Zm440 0h160v-160H620v160ZM180-180h160v-160H180v160Zm440 0h160v-160H620v160Z\"/>\n",
              "  </svg>\n",
              "    </button>\n",
              "\n",
              "  <style>\n",
              "    .colab-df-container {\n",
              "      display:flex;\n",
              "      gap: 12px;\n",
              "    }\n",
              "\n",
              "    .colab-df-convert {\n",
              "      background-color: #E8F0FE;\n",
              "      border: none;\n",
              "      border-radius: 50%;\n",
              "      cursor: pointer;\n",
              "      display: none;\n",
              "      fill: #1967D2;\n",
              "      height: 32px;\n",
              "      padding: 0 0 0 0;\n",
              "      width: 32px;\n",
              "    }\n",
              "\n",
              "    .colab-df-convert:hover {\n",
              "      background-color: #E2EBFA;\n",
              "      box-shadow: 0px 1px 2px rgba(60, 64, 67, 0.3), 0px 1px 3px 1px rgba(60, 64, 67, 0.15);\n",
              "      fill: #174EA6;\n",
              "    }\n",
              "\n",
              "    .colab-df-buttons div {\n",
              "      margin-bottom: 4px;\n",
              "    }\n",
              "\n",
              "    [theme=dark] .colab-df-convert {\n",
              "      background-color: #3B4455;\n",
              "      fill: #D2E3FC;\n",
              "    }\n",
              "\n",
              "    [theme=dark] .colab-df-convert:hover {\n",
              "      background-color: #434B5C;\n",
              "      box-shadow: 0px 1px 3px 1px rgba(0, 0, 0, 0.15);\n",
              "      filter: drop-shadow(0px 1px 2px rgba(0, 0, 0, 0.3));\n",
              "      fill: #FFFFFF;\n",
              "    }\n",
              "  </style>\n",
              "\n",
              "    <script>\n",
              "      const buttonEl =\n",
              "        document.querySelector('#df-2cde8316-920f-4983-9e61-9093b18a4529 button.colab-df-convert');\n",
              "      buttonEl.style.display =\n",
              "        google.colab.kernel.accessAllowed ? 'block' : 'none';\n",
              "\n",
              "      async function convertToInteractive(key) {\n",
              "        const element = document.querySelector('#df-2cde8316-920f-4983-9e61-9093b18a4529');\n",
              "        const dataTable =\n",
              "          await google.colab.kernel.invokeFunction('convertToInteractive',\n",
              "                                                    [key], {});\n",
              "        if (!dataTable) return;\n",
              "\n",
              "        const docLinkHtml = 'Like what you see? Visit the ' +\n",
              "          '<a target=\"_blank\" href=https://colab.research.google.com/notebooks/data_table.ipynb>data table notebook</a>'\n",
              "          + ' to learn more about interactive tables.';\n",
              "        element.innerHTML = '';\n",
              "        dataTable['output_type'] = 'display_data';\n",
              "        await google.colab.output.renderOutput(dataTable, element);\n",
              "        const docLink = document.createElement('div');\n",
              "        docLink.innerHTML = docLinkHtml;\n",
              "        element.appendChild(docLink);\n",
              "      }\n",
              "    </script>\n",
              "  </div>\n",
              "\n",
              "\n",
              "<div id=\"df-1cebcb3d-0270-4a89-8474-0de35b5eb3b6\">\n",
              "  <button class=\"colab-df-quickchart\" onclick=\"quickchart('df-1cebcb3d-0270-4a89-8474-0de35b5eb3b6')\"\n",
              "            title=\"Suggest charts\"\n",
              "            style=\"display:none;\">\n",
              "\n",
              "<svg xmlns=\"http://www.w3.org/2000/svg\" height=\"24px\"viewBox=\"0 0 24 24\"\n",
              "     width=\"24px\">\n",
              "    <g>\n",
              "        <path d=\"M19 3H5c-1.1 0-2 .9-2 2v14c0 1.1.9 2 2 2h14c1.1 0 2-.9 2-2V5c0-1.1-.9-2-2-2zM9 17H7v-7h2v7zm4 0h-2V7h2v10zm4 0h-2v-4h2v4z\"/>\n",
              "    </g>\n",
              "</svg>\n",
              "  </button>\n",
              "\n",
              "<style>\n",
              "  .colab-df-quickchart {\n",
              "      --bg-color: #E8F0FE;\n",
              "      --fill-color: #1967D2;\n",
              "      --hover-bg-color: #E2EBFA;\n",
              "      --hover-fill-color: #174EA6;\n",
              "      --disabled-fill-color: #AAA;\n",
              "      --disabled-bg-color: #DDD;\n",
              "  }\n",
              "\n",
              "  [theme=dark] .colab-df-quickchart {\n",
              "      --bg-color: #3B4455;\n",
              "      --fill-color: #D2E3FC;\n",
              "      --hover-bg-color: #434B5C;\n",
              "      --hover-fill-color: #FFFFFF;\n",
              "      --disabled-bg-color: #3B4455;\n",
              "      --disabled-fill-color: #666;\n",
              "  }\n",
              "\n",
              "  .colab-df-quickchart {\n",
              "    background-color: var(--bg-color);\n",
              "    border: none;\n",
              "    border-radius: 50%;\n",
              "    cursor: pointer;\n",
              "    display: none;\n",
              "    fill: var(--fill-color);\n",
              "    height: 32px;\n",
              "    padding: 0;\n",
              "    width: 32px;\n",
              "  }\n",
              "\n",
              "  .colab-df-quickchart:hover {\n",
              "    background-color: var(--hover-bg-color);\n",
              "    box-shadow: 0 1px 2px rgba(60, 64, 67, 0.3), 0 1px 3px 1px rgba(60, 64, 67, 0.15);\n",
              "    fill: var(--button-hover-fill-color);\n",
              "  }\n",
              "\n",
              "  .colab-df-quickchart-complete:disabled,\n",
              "  .colab-df-quickchart-complete:disabled:hover {\n",
              "    background-color: var(--disabled-bg-color);\n",
              "    fill: var(--disabled-fill-color);\n",
              "    box-shadow: none;\n",
              "  }\n",
              "\n",
              "  .colab-df-spinner {\n",
              "    border: 2px solid var(--fill-color);\n",
              "    border-color: transparent;\n",
              "    border-bottom-color: var(--fill-color);\n",
              "    animation:\n",
              "      spin 1s steps(1) infinite;\n",
              "  }\n",
              "\n",
              "  @keyframes spin {\n",
              "    0% {\n",
              "      border-color: transparent;\n",
              "      border-bottom-color: var(--fill-color);\n",
              "      border-left-color: var(--fill-color);\n",
              "    }\n",
              "    20% {\n",
              "      border-color: transparent;\n",
              "      border-left-color: var(--fill-color);\n",
              "      border-top-color: var(--fill-color);\n",
              "    }\n",
              "    30% {\n",
              "      border-color: transparent;\n",
              "      border-left-color: var(--fill-color);\n",
              "      border-top-color: var(--fill-color);\n",
              "      border-right-color: var(--fill-color);\n",
              "    }\n",
              "    40% {\n",
              "      border-color: transparent;\n",
              "      border-right-color: var(--fill-color);\n",
              "      border-top-color: var(--fill-color);\n",
              "    }\n",
              "    60% {\n",
              "      border-color: transparent;\n",
              "      border-right-color: var(--fill-color);\n",
              "    }\n",
              "    80% {\n",
              "      border-color: transparent;\n",
              "      border-right-color: var(--fill-color);\n",
              "      border-bottom-color: var(--fill-color);\n",
              "    }\n",
              "    90% {\n",
              "      border-color: transparent;\n",
              "      border-bottom-color: var(--fill-color);\n",
              "    }\n",
              "  }\n",
              "</style>\n",
              "\n",
              "  <script>\n",
              "    async function quickchart(key) {\n",
              "      const quickchartButtonEl =\n",
              "        document.querySelector('#' + key + ' button');\n",
              "      quickchartButtonEl.disabled = true;  // To prevent multiple clicks.\n",
              "      quickchartButtonEl.classList.add('colab-df-spinner');\n",
              "      try {\n",
              "        const charts = await google.colab.kernel.invokeFunction(\n",
              "            'suggestCharts', [key], {});\n",
              "      } catch (error) {\n",
              "        console.error('Error during call to suggestCharts:', error);\n",
              "      }\n",
              "      quickchartButtonEl.classList.remove('colab-df-spinner');\n",
              "      quickchartButtonEl.classList.add('colab-df-quickchart-complete');\n",
              "    }\n",
              "    (() => {\n",
              "      let quickchartButtonEl =\n",
              "        document.querySelector('#df-1cebcb3d-0270-4a89-8474-0de35b5eb3b6 button');\n",
              "      quickchartButtonEl.style.display =\n",
              "        google.colab.kernel.accessAllowed ? 'block' : 'none';\n",
              "    })();\n",
              "  </script>\n",
              "</div>\n",
              "    </div>\n",
              "  </div>\n"
            ],
            "application/vnd.google.colaboratory.intrinsic+json": {
              "type": "dataframe",
              "variable_name": "bike",
              "summary": "{\n  \"name\": \"bike\",\n  \"rows\": 17414,\n  \"fields\": [\n    {\n      \"column\": \"timestamp\",\n      \"properties\": {\n        \"dtype\": \"object\",\n        \"num_unique_values\": 17414,\n        \"samples\": [\n          \"2016-08-17 04:00:00\",\n          \"2016-04-08 07:00:00\",\n          \"2015-11-10 00:00:00\"\n        ],\n        \"semantic_type\": \"\",\n        \"description\": \"\"\n      }\n    },\n    {\n      \"column\": \"cnt\",\n      \"properties\": {\n        \"dtype\": \"number\",\n        \"std\": 1085,\n        \"min\": 0,\n        \"max\": 7860,\n        \"num_unique_values\": 3781,\n        \"samples\": [\n          1417,\n          2143,\n          3979\n        ],\n        \"semantic_type\": \"\",\n        \"description\": \"\"\n      }\n    },\n    {\n      \"column\": \"t1\",\n      \"properties\": {\n        \"dtype\": \"number\",\n        \"std\": 5.571817562920526,\n        \"min\": -1.5,\n        \"max\": 34.0,\n        \"num_unique_values\": 73,\n        \"samples\": [\n          1.5,\n          33.5,\n          4.5\n        ],\n        \"semantic_type\": \"\",\n        \"description\": \"\"\n      }\n    },\n    {\n      \"column\": \"t2\",\n      \"properties\": {\n        \"dtype\": \"number\",\n        \"std\": 6.615144673127893,\n        \"min\": -6.0,\n        \"max\": 34.0,\n        \"num_unique_values\": 82,\n        \"samples\": [\n          14.0,\n          2.0,\n          11.5\n        ],\n        \"semantic_type\": \"\",\n        \"description\": \"\"\n      }\n    },\n    {\n      \"column\": \"hum\",\n      \"properties\": {\n        \"dtype\": \"number\",\n        \"std\": 14.313186095310977,\n        \"min\": 20.5,\n        \"max\": 100.0,\n        \"num_unique_values\": 143,\n        \"samples\": [\n          29.5,\n          71.5,\n          40.0\n        ],\n        \"semantic_type\": \"\",\n        \"description\": \"\"\n      }\n    },\n    {\n      \"column\": \"wind_speed\",\n      \"properties\": {\n        \"dtype\": \"number\",\n        \"std\": 7.894570329361161,\n        \"min\": 0.0,\n        \"max\": 56.5,\n        \"num_unique_values\": 103,\n        \"samples\": [\n          30.0,\n          2.0,\n          23.5\n        ],\n        \"semantic_type\": \"\",\n        \"description\": \"\"\n      }\n    },\n    {\n      \"column\": \"weather_code\",\n      \"properties\": {\n        \"dtype\": \"number\",\n        \"std\": 2.341163284645666,\n        \"min\": 1.0,\n        \"max\": 26.0,\n        \"num_unique_values\": 7,\n        \"samples\": [\n          3.0,\n          1.0,\n          26.0\n        ],\n        \"semantic_type\": \"\",\n        \"description\": \"\"\n      }\n    },\n    {\n      \"column\": \"is_holiday\",\n      \"properties\": {\n        \"dtype\": \"number\",\n        \"std\": 0.1468543671527596,\n        \"min\": 0.0,\n        \"max\": 1.0,\n        \"num_unique_values\": 2,\n        \"samples\": [\n          1.0,\n          0.0\n        ],\n        \"semantic_type\": \"\",\n        \"description\": \"\"\n      }\n    },\n    {\n      \"column\": \"is_weekend\",\n      \"properties\": {\n        \"dtype\": \"number\",\n        \"std\": 0.45161891757102296,\n        \"min\": 0.0,\n        \"max\": 1.0,\n        \"num_unique_values\": 2,\n        \"samples\": [\n          0.0,\n          1.0\n        ],\n        \"semantic_type\": \"\",\n        \"description\": \"\"\n      }\n    },\n    {\n      \"column\": \"season\",\n      \"properties\": {\n        \"dtype\": \"number\",\n        \"std\": 1.1189108748277623,\n        \"min\": 0.0,\n        \"max\": 3.0,\n        \"num_unique_values\": 4,\n        \"samples\": [\n          0.0,\n          2.0\n        ],\n        \"semantic_type\": \"\",\n        \"description\": \"\"\n      }\n    }\n  ]\n}"
            }
          },
          "metadata": {},
          "execution_count": 52
        }
      ],
      "source": [
        "bike.head()"
      ]
    },
    {
      "cell_type": "code",
      "execution_count": 53,
      "metadata": {
        "colab": {
          "base_uri": "https://localhost:8080/",
          "height": 300
        },
        "id": "R72Rbu565Uok",
        "outputId": "7bb3470d-6166-4b3d-e5af-1699486ba5cf"
      },
      "outputs": [
        {
          "output_type": "execute_result",
          "data": {
            "text/plain": [
              "                cnt            t1            t2           hum    wind_speed  \\\n",
              "count  17414.000000  17414.000000  17414.000000  17414.000000  17414.000000   \n",
              "mean    1143.101642     12.468091     11.520836     72.324954     15.913063   \n",
              "std     1085.108068      5.571818      6.615145     14.313186      7.894570   \n",
              "min        0.000000     -1.500000     -6.000000     20.500000      0.000000   \n",
              "25%      257.000000      8.000000      6.000000     63.000000     10.000000   \n",
              "50%      844.000000     12.500000     12.500000     74.500000     15.000000   \n",
              "75%     1671.750000     16.000000     16.000000     83.000000     20.500000   \n",
              "max     7860.000000     34.000000     34.000000    100.000000     56.500000   \n",
              "\n",
              "       weather_code    is_holiday    is_weekend        season  \n",
              "count  17414.000000  17414.000000  17414.000000  17414.000000  \n",
              "mean       2.722752      0.022051      0.285403      1.492075  \n",
              "std        2.341163      0.146854      0.451619      1.118911  \n",
              "min        1.000000      0.000000      0.000000      0.000000  \n",
              "25%        1.000000      0.000000      0.000000      0.000000  \n",
              "50%        2.000000      0.000000      0.000000      1.000000  \n",
              "75%        3.000000      0.000000      1.000000      2.000000  \n",
              "max       26.000000      1.000000      1.000000      3.000000  "
            ],
            "text/html": [
              "\n",
              "  <div id=\"df-cee4fd18-0480-4ca7-9b87-6cd068828429\" class=\"colab-df-container\">\n",
              "    <div>\n",
              "<style scoped>\n",
              "    .dataframe tbody tr th:only-of-type {\n",
              "        vertical-align: middle;\n",
              "    }\n",
              "\n",
              "    .dataframe tbody tr th {\n",
              "        vertical-align: top;\n",
              "    }\n",
              "\n",
              "    .dataframe thead th {\n",
              "        text-align: right;\n",
              "    }\n",
              "</style>\n",
              "<table border=\"1\" class=\"dataframe\">\n",
              "  <thead>\n",
              "    <tr style=\"text-align: right;\">\n",
              "      <th></th>\n",
              "      <th>cnt</th>\n",
              "      <th>t1</th>\n",
              "      <th>t2</th>\n",
              "      <th>hum</th>\n",
              "      <th>wind_speed</th>\n",
              "      <th>weather_code</th>\n",
              "      <th>is_holiday</th>\n",
              "      <th>is_weekend</th>\n",
              "      <th>season</th>\n",
              "    </tr>\n",
              "  </thead>\n",
              "  <tbody>\n",
              "    <tr>\n",
              "      <th>count</th>\n",
              "      <td>17414.000000</td>\n",
              "      <td>17414.000000</td>\n",
              "      <td>17414.000000</td>\n",
              "      <td>17414.000000</td>\n",
              "      <td>17414.000000</td>\n",
              "      <td>17414.000000</td>\n",
              "      <td>17414.000000</td>\n",
              "      <td>17414.000000</td>\n",
              "      <td>17414.000000</td>\n",
              "    </tr>\n",
              "    <tr>\n",
              "      <th>mean</th>\n",
              "      <td>1143.101642</td>\n",
              "      <td>12.468091</td>\n",
              "      <td>11.520836</td>\n",
              "      <td>72.324954</td>\n",
              "      <td>15.913063</td>\n",
              "      <td>2.722752</td>\n",
              "      <td>0.022051</td>\n",
              "      <td>0.285403</td>\n",
              "      <td>1.492075</td>\n",
              "    </tr>\n",
              "    <tr>\n",
              "      <th>std</th>\n",
              "      <td>1085.108068</td>\n",
              "      <td>5.571818</td>\n",
              "      <td>6.615145</td>\n",
              "      <td>14.313186</td>\n",
              "      <td>7.894570</td>\n",
              "      <td>2.341163</td>\n",
              "      <td>0.146854</td>\n",
              "      <td>0.451619</td>\n",
              "      <td>1.118911</td>\n",
              "    </tr>\n",
              "    <tr>\n",
              "      <th>min</th>\n",
              "      <td>0.000000</td>\n",
              "      <td>-1.500000</td>\n",
              "      <td>-6.000000</td>\n",
              "      <td>20.500000</td>\n",
              "      <td>0.000000</td>\n",
              "      <td>1.000000</td>\n",
              "      <td>0.000000</td>\n",
              "      <td>0.000000</td>\n",
              "      <td>0.000000</td>\n",
              "    </tr>\n",
              "    <tr>\n",
              "      <th>25%</th>\n",
              "      <td>257.000000</td>\n",
              "      <td>8.000000</td>\n",
              "      <td>6.000000</td>\n",
              "      <td>63.000000</td>\n",
              "      <td>10.000000</td>\n",
              "      <td>1.000000</td>\n",
              "      <td>0.000000</td>\n",
              "      <td>0.000000</td>\n",
              "      <td>0.000000</td>\n",
              "    </tr>\n",
              "    <tr>\n",
              "      <th>50%</th>\n",
              "      <td>844.000000</td>\n",
              "      <td>12.500000</td>\n",
              "      <td>12.500000</td>\n",
              "      <td>74.500000</td>\n",
              "      <td>15.000000</td>\n",
              "      <td>2.000000</td>\n",
              "      <td>0.000000</td>\n",
              "      <td>0.000000</td>\n",
              "      <td>1.000000</td>\n",
              "    </tr>\n",
              "    <tr>\n",
              "      <th>75%</th>\n",
              "      <td>1671.750000</td>\n",
              "      <td>16.000000</td>\n",
              "      <td>16.000000</td>\n",
              "      <td>83.000000</td>\n",
              "      <td>20.500000</td>\n",
              "      <td>3.000000</td>\n",
              "      <td>0.000000</td>\n",
              "      <td>1.000000</td>\n",
              "      <td>2.000000</td>\n",
              "    </tr>\n",
              "    <tr>\n",
              "      <th>max</th>\n",
              "      <td>7860.000000</td>\n",
              "      <td>34.000000</td>\n",
              "      <td>34.000000</td>\n",
              "      <td>100.000000</td>\n",
              "      <td>56.500000</td>\n",
              "      <td>26.000000</td>\n",
              "      <td>1.000000</td>\n",
              "      <td>1.000000</td>\n",
              "      <td>3.000000</td>\n",
              "    </tr>\n",
              "  </tbody>\n",
              "</table>\n",
              "</div>\n",
              "    <div class=\"colab-df-buttons\">\n",
              "\n",
              "  <div class=\"colab-df-container\">\n",
              "    <button class=\"colab-df-convert\" onclick=\"convertToInteractive('df-cee4fd18-0480-4ca7-9b87-6cd068828429')\"\n",
              "            title=\"Convert this dataframe to an interactive table.\"\n",
              "            style=\"display:none;\">\n",
              "\n",
              "  <svg xmlns=\"http://www.w3.org/2000/svg\" height=\"24px\" viewBox=\"0 -960 960 960\">\n",
              "    <path d=\"M120-120v-720h720v720H120Zm60-500h600v-160H180v160Zm220 220h160v-160H400v160Zm0 220h160v-160H400v160ZM180-400h160v-160H180v160Zm440 0h160v-160H620v160ZM180-180h160v-160H180v160Zm440 0h160v-160H620v160Z\"/>\n",
              "  </svg>\n",
              "    </button>\n",
              "\n",
              "  <style>\n",
              "    .colab-df-container {\n",
              "      display:flex;\n",
              "      gap: 12px;\n",
              "    }\n",
              "\n",
              "    .colab-df-convert {\n",
              "      background-color: #E8F0FE;\n",
              "      border: none;\n",
              "      border-radius: 50%;\n",
              "      cursor: pointer;\n",
              "      display: none;\n",
              "      fill: #1967D2;\n",
              "      height: 32px;\n",
              "      padding: 0 0 0 0;\n",
              "      width: 32px;\n",
              "    }\n",
              "\n",
              "    .colab-df-convert:hover {\n",
              "      background-color: #E2EBFA;\n",
              "      box-shadow: 0px 1px 2px rgba(60, 64, 67, 0.3), 0px 1px 3px 1px rgba(60, 64, 67, 0.15);\n",
              "      fill: #174EA6;\n",
              "    }\n",
              "\n",
              "    .colab-df-buttons div {\n",
              "      margin-bottom: 4px;\n",
              "    }\n",
              "\n",
              "    [theme=dark] .colab-df-convert {\n",
              "      background-color: #3B4455;\n",
              "      fill: #D2E3FC;\n",
              "    }\n",
              "\n",
              "    [theme=dark] .colab-df-convert:hover {\n",
              "      background-color: #434B5C;\n",
              "      box-shadow: 0px 1px 3px 1px rgba(0, 0, 0, 0.15);\n",
              "      filter: drop-shadow(0px 1px 2px rgba(0, 0, 0, 0.3));\n",
              "      fill: #FFFFFF;\n",
              "    }\n",
              "  </style>\n",
              "\n",
              "    <script>\n",
              "      const buttonEl =\n",
              "        document.querySelector('#df-cee4fd18-0480-4ca7-9b87-6cd068828429 button.colab-df-convert');\n",
              "      buttonEl.style.display =\n",
              "        google.colab.kernel.accessAllowed ? 'block' : 'none';\n",
              "\n",
              "      async function convertToInteractive(key) {\n",
              "        const element = document.querySelector('#df-cee4fd18-0480-4ca7-9b87-6cd068828429');\n",
              "        const dataTable =\n",
              "          await google.colab.kernel.invokeFunction('convertToInteractive',\n",
              "                                                    [key], {});\n",
              "        if (!dataTable) return;\n",
              "\n",
              "        const docLinkHtml = 'Like what you see? Visit the ' +\n",
              "          '<a target=\"_blank\" href=https://colab.research.google.com/notebooks/data_table.ipynb>data table notebook</a>'\n",
              "          + ' to learn more about interactive tables.';\n",
              "        element.innerHTML = '';\n",
              "        dataTable['output_type'] = 'display_data';\n",
              "        await google.colab.output.renderOutput(dataTable, element);\n",
              "        const docLink = document.createElement('div');\n",
              "        docLink.innerHTML = docLinkHtml;\n",
              "        element.appendChild(docLink);\n",
              "      }\n",
              "    </script>\n",
              "  </div>\n",
              "\n",
              "\n",
              "<div id=\"df-763f6f24-3d46-4e9e-be6f-b7eebf04c08a\">\n",
              "  <button class=\"colab-df-quickchart\" onclick=\"quickchart('df-763f6f24-3d46-4e9e-be6f-b7eebf04c08a')\"\n",
              "            title=\"Suggest charts\"\n",
              "            style=\"display:none;\">\n",
              "\n",
              "<svg xmlns=\"http://www.w3.org/2000/svg\" height=\"24px\"viewBox=\"0 0 24 24\"\n",
              "     width=\"24px\">\n",
              "    <g>\n",
              "        <path d=\"M19 3H5c-1.1 0-2 .9-2 2v14c0 1.1.9 2 2 2h14c1.1 0 2-.9 2-2V5c0-1.1-.9-2-2-2zM9 17H7v-7h2v7zm4 0h-2V7h2v10zm4 0h-2v-4h2v4z\"/>\n",
              "    </g>\n",
              "</svg>\n",
              "  </button>\n",
              "\n",
              "<style>\n",
              "  .colab-df-quickchart {\n",
              "      --bg-color: #E8F0FE;\n",
              "      --fill-color: #1967D2;\n",
              "      --hover-bg-color: #E2EBFA;\n",
              "      --hover-fill-color: #174EA6;\n",
              "      --disabled-fill-color: #AAA;\n",
              "      --disabled-bg-color: #DDD;\n",
              "  }\n",
              "\n",
              "  [theme=dark] .colab-df-quickchart {\n",
              "      --bg-color: #3B4455;\n",
              "      --fill-color: #D2E3FC;\n",
              "      --hover-bg-color: #434B5C;\n",
              "      --hover-fill-color: #FFFFFF;\n",
              "      --disabled-bg-color: #3B4455;\n",
              "      --disabled-fill-color: #666;\n",
              "  }\n",
              "\n",
              "  .colab-df-quickchart {\n",
              "    background-color: var(--bg-color);\n",
              "    border: none;\n",
              "    border-radius: 50%;\n",
              "    cursor: pointer;\n",
              "    display: none;\n",
              "    fill: var(--fill-color);\n",
              "    height: 32px;\n",
              "    padding: 0;\n",
              "    width: 32px;\n",
              "  }\n",
              "\n",
              "  .colab-df-quickchart:hover {\n",
              "    background-color: var(--hover-bg-color);\n",
              "    box-shadow: 0 1px 2px rgba(60, 64, 67, 0.3), 0 1px 3px 1px rgba(60, 64, 67, 0.15);\n",
              "    fill: var(--button-hover-fill-color);\n",
              "  }\n",
              "\n",
              "  .colab-df-quickchart-complete:disabled,\n",
              "  .colab-df-quickchart-complete:disabled:hover {\n",
              "    background-color: var(--disabled-bg-color);\n",
              "    fill: var(--disabled-fill-color);\n",
              "    box-shadow: none;\n",
              "  }\n",
              "\n",
              "  .colab-df-spinner {\n",
              "    border: 2px solid var(--fill-color);\n",
              "    border-color: transparent;\n",
              "    border-bottom-color: var(--fill-color);\n",
              "    animation:\n",
              "      spin 1s steps(1) infinite;\n",
              "  }\n",
              "\n",
              "  @keyframes spin {\n",
              "    0% {\n",
              "      border-color: transparent;\n",
              "      border-bottom-color: var(--fill-color);\n",
              "      border-left-color: var(--fill-color);\n",
              "    }\n",
              "    20% {\n",
              "      border-color: transparent;\n",
              "      border-left-color: var(--fill-color);\n",
              "      border-top-color: var(--fill-color);\n",
              "    }\n",
              "    30% {\n",
              "      border-color: transparent;\n",
              "      border-left-color: var(--fill-color);\n",
              "      border-top-color: var(--fill-color);\n",
              "      border-right-color: var(--fill-color);\n",
              "    }\n",
              "    40% {\n",
              "      border-color: transparent;\n",
              "      border-right-color: var(--fill-color);\n",
              "      border-top-color: var(--fill-color);\n",
              "    }\n",
              "    60% {\n",
              "      border-color: transparent;\n",
              "      border-right-color: var(--fill-color);\n",
              "    }\n",
              "    80% {\n",
              "      border-color: transparent;\n",
              "      border-right-color: var(--fill-color);\n",
              "      border-bottom-color: var(--fill-color);\n",
              "    }\n",
              "    90% {\n",
              "      border-color: transparent;\n",
              "      border-bottom-color: var(--fill-color);\n",
              "    }\n",
              "  }\n",
              "</style>\n",
              "\n",
              "  <script>\n",
              "    async function quickchart(key) {\n",
              "      const quickchartButtonEl =\n",
              "        document.querySelector('#' + key + ' button');\n",
              "      quickchartButtonEl.disabled = true;  // To prevent multiple clicks.\n",
              "      quickchartButtonEl.classList.add('colab-df-spinner');\n",
              "      try {\n",
              "        const charts = await google.colab.kernel.invokeFunction(\n",
              "            'suggestCharts', [key], {});\n",
              "      } catch (error) {\n",
              "        console.error('Error during call to suggestCharts:', error);\n",
              "      }\n",
              "      quickchartButtonEl.classList.remove('colab-df-spinner');\n",
              "      quickchartButtonEl.classList.add('colab-df-quickchart-complete');\n",
              "    }\n",
              "    (() => {\n",
              "      let quickchartButtonEl =\n",
              "        document.querySelector('#df-763f6f24-3d46-4e9e-be6f-b7eebf04c08a button');\n",
              "      quickchartButtonEl.style.display =\n",
              "        google.colab.kernel.accessAllowed ? 'block' : 'none';\n",
              "    })();\n",
              "  </script>\n",
              "</div>\n",
              "    </div>\n",
              "  </div>\n"
            ],
            "application/vnd.google.colaboratory.intrinsic+json": {
              "type": "dataframe",
              "summary": "{\n  \"name\": \"bike\",\n  \"rows\": 8,\n  \"fields\": [\n    {\n      \"column\": \"cnt\",\n      \"properties\": {\n        \"dtype\": \"number\",\n        \"std\": 6053.483315578092,\n        \"min\": 0.0,\n        \"max\": 17414.0,\n        \"num_unique_values\": 8,\n        \"samples\": [\n          1143.1016423567244,\n          844.0,\n          17414.0\n        ],\n        \"semantic_type\": \"\",\n        \"description\": \"\"\n      }\n    },\n    {\n      \"column\": \"t1\",\n      \"properties\": {\n        \"dtype\": \"number\",\n        \"std\": 6152.391141013383,\n        \"min\": -1.5,\n        \"max\": 17414.0,\n        \"num_unique_values\": 8,\n        \"samples\": [\n          12.468090808162016,\n          12.5,\n          17414.0\n        ],\n        \"semantic_type\": \"\",\n        \"description\": \"\"\n      }\n    },\n    {\n      \"column\": \"t2\",\n      \"properties\": {\n        \"dtype\": \"number\",\n        \"std\": 6152.716319166452,\n        \"min\": -6.0,\n        \"max\": 17414.0,\n        \"num_unique_values\": 8,\n        \"samples\": [\n          11.52083572604418,\n          12.5,\n          17414.0\n        ],\n        \"semantic_type\": \"\",\n        \"description\": \"\"\n      }\n    },\n    {\n      \"column\": \"hum\",\n      \"properties\": {\n        \"dtype\": \"number\",\n        \"std\": 6135.251232785193,\n        \"min\": 14.313186095310977,\n        \"max\": 17414.0,\n        \"num_unique_values\": 8,\n        \"samples\": [\n          72.32495405995176,\n          74.5,\n          17414.0\n        ],\n        \"semantic_type\": \"\",\n        \"description\": \"\"\n      }\n    },\n    {\n      \"column\": \"wind_speed\",\n      \"properties\": {\n        \"dtype\": \"number\",\n        \"std\": 6150.447632628947,\n        \"min\": 0.0,\n        \"max\": 17414.0,\n        \"num_unique_values\": 8,\n        \"samples\": [\n          15.913063244133072,\n          15.0,\n          17414.0\n        ],\n        \"semantic_type\": \"\",\n        \"description\": \"\"\n      }\n    },\n    {\n      \"column\": \"weather_code\",\n      \"properties\": {\n        \"dtype\": \"number\",\n        \"std\": 6154.861992561643,\n        \"min\": 1.0,\n        \"max\": 17414.0,\n        \"num_unique_values\": 7,\n        \"samples\": [\n          17414.0,\n          2.722751808889399,\n          3.0\n        ],\n        \"semantic_type\": \"\",\n        \"description\": \"\"\n      }\n    },\n    {\n      \"column\": \"is_holiday\",\n      \"properties\": {\n        \"dtype\": \"number\",\n        \"std\": 6156.719714736464,\n        \"min\": 0.0,\n        \"max\": 17414.0,\n        \"num_unique_values\": 5,\n        \"samples\": [\n          0.02205122315378431,\n          1.0,\n          0.1468543671527596\n        ],\n        \"semantic_type\": \"\",\n        \"description\": \"\"\n      }\n    },\n    {\n      \"column\": \"is_weekend\",\n      \"properties\": {\n        \"dtype\": \"number\",\n        \"std\": 6156.64051743024,\n        \"min\": 0.0,\n        \"max\": 17414.0,\n        \"num_unique_values\": 5,\n        \"samples\": [\n          0.28540254967267714,\n          1.0,\n          0.45161891757102296\n        ],\n        \"semantic_type\": \"\",\n        \"description\": \"\"\n      }\n    },\n    {\n      \"column\": \"season\",\n      \"properties\": {\n        \"dtype\": \"number\",\n        \"std\": 6156.343903198221,\n        \"min\": 0.0,\n        \"max\": 17414.0,\n        \"num_unique_values\": 7,\n        \"samples\": [\n          17414.0,\n          1.4920753416791088,\n          2.0\n        ],\n        \"semantic_type\": \"\",\n        \"description\": \"\"\n      }\n    }\n  ]\n}"
            }
          },
          "metadata": {},
          "execution_count": 53
        }
      ],
      "source": [
        "bike.describe()"
      ]
    },
    {
      "cell_type": "markdown",
      "metadata": {
        "id": "tx92lVrO5aTz"
      },
      "source": [
        "La tabella ottenuta mostra alcune statistiche sui valori di ciascuna colonna, utili ad analizzarne la distribuzione come:\n",
        "- `count` = valori non mancanti, ovvero diversi da NA\n",
        "  - in questo caso non ci sono valori mancanti, quindi tutti i count sono pari al numero di righe (17414)\n",
        "- `mean` = media\n",
        "  - ad esempio la media dei noleggi per ora è di circa 1143 biciclette\n",
        "- `25%`/`50%`/`75%` = percentili\n",
        "  - ad es. nel 75% delle ore è stata rilevata un temperatura media **inferiore a** 16°C"
      ]
    },
    {
      "cell_type": "markdown",
      "metadata": {
        "id": "4MsXDkYg8BW8"
      },
      "source": [
        "###Preprocessing dei dati"
      ]
    },
    {
      "cell_type": "markdown",
      "metadata": {
        "id": "yqTNhjwv9KdK"
      },
      "source": [
        "Rinomino alcune colonne per migliorarne la comprensione:"
      ]
    },
    {
      "cell_type": "code",
      "execution_count": 54,
      "metadata": {
        "id": "_s-uQb039L1f"
      },
      "outputs": [],
      "source": [
        "bike = bike.rename(columns={'cnt':'num_bikes','hum':'humidity'})"
      ]
    },
    {
      "cell_type": "markdown",
      "metadata": {
        "id": "1eiLECrN8RxS"
      },
      "source": [
        "####Aggiunta variabili\n",
        "I dati di timestamp non sono molto utili per noi nel formato attuale. Per incorporarli nel nostro modello di regressione lineare, dovremo estrarre l'ora, il giorno e il mese dal timestamp"
      ]
    },
    {
      "cell_type": "code",
      "execution_count": 55,
      "metadata": {
        "id": "Nv15xeaT8eVz"
      },
      "outputs": [],
      "source": [
        "bike[\"timestamp\"] = pd.to_datetime(bike[\"timestamp\"])\n",
        "\n",
        "bike[\"month\"] = bike.timestamp.dt.month\n",
        "bike[\"hour\"] = bike.timestamp.dt.hour\n",
        "bike[\"weekday\"] = bike.timestamp.dt.weekday\n",
        "\n",
        "bike = bike.drop(\"timestamp\", axis=1)"
      ]
    },
    {
      "cell_type": "markdown",
      "metadata": {
        "id": "pCgAq9zm9TnQ"
      },
      "source": [
        "Per migliorare l'interpretabilità dei risultati successivi, sostituiamo inoltre i numeri nella colonna `season`,  `weather_code`, `weekday` e `month` con nomi abbreviati significativi. Una volta definito un dizionario che mappa ciascuno dei valori distinti attualmente nella colonna al valore con cui si vuole sostituire..."
      ]
    },
    {
      "cell_type": "code",
      "execution_count": 56,
      "metadata": {
        "id": "ShV-OACe9czt"
      },
      "outputs": [],
      "source": [
        "index_to_season = {\n",
        "    0: 'spring',\n",
        "    1: 'summer',\n",
        "    2: 'autumn',\n",
        "    3: 'winter'\n",
        "}\n",
        "\n",
        "index_to_weather_code = {\n",
        "      1: \"clear\",\n",
        "      2: \"few_clouds\",\n",
        "      3: \"clouds\",\n",
        "      4: \"cloudy\",\n",
        "      7: \"rain\",\n",
        "      10: \"storm\",\n",
        "      26: \"snow\",\n",
        "      94: \"fog\"\n",
        "}\n",
        "\n",
        "index_to_dayOfWeek = {\n",
        "    0:'Mon',\n",
        "    1:'Tue',\n",
        "    2:'Wed',\n",
        "    3:'Thu',\n",
        "    4:'Fri',\n",
        "    5:'Sat',\n",
        "    6:'Sun'\n",
        "}\n",
        "\n",
        "index_to_month = {\n",
        "    1:'Jan',\n",
        "    2:'Feb',\n",
        "    3:'Mar',\n",
        "    4:'Apr',\n",
        "    5:'May',\n",
        "    6:'June',\n",
        "    7:'July',\n",
        "    8:'Aug',\n",
        "    9:'Sept',\n",
        "    10:'Oct',\n",
        "    11:'Nov',\n",
        "    12:'Dic'\n",
        "}"
      ]
    },
    {
      "cell_type": "markdown",
      "metadata": {
        "id": "BqEPvuS1-Jed"
      },
      "source": [
        "...possiamo usare il metodo `map` per ottenere una colonna con i valori sostituiti, che convertiamo poi a categorica."
      ]
    },
    {
      "cell_type": "code",
      "execution_count": 57,
      "metadata": {
        "id": "NZvzIDz7-MUB"
      },
      "outputs": [],
      "source": [
        "bike['season'] = bike.season.map(index_to_season).astype(\"category\")\n",
        "\n",
        "bike['weather_code'] = bike.weather_code.map(index_to_weather_code).astype(\"category\")\n",
        "\n",
        "bike[\"weekday\"] = bike.weekday.map(index_to_dayOfWeek).astype(\"category\")\n",
        "\n",
        "bike[\"month\"] = bike.month.map(index_to_month).astype(\"category\")"
      ]
    },
    {
      "cell_type": "code",
      "execution_count": 58,
      "metadata": {
        "colab": {
          "base_uri": "https://localhost:8080/",
          "height": 206
        },
        "id": "_jaj310Z-dNI",
        "outputId": "ccd1ac17-e6cb-433e-b0af-d57b55f6e659"
      },
      "outputs": [
        {
          "output_type": "execute_result",
          "data": {
            "text/plain": [
              "   num_bikes   t1   t2  humidity  wind_speed weather_code  is_holiday  \\\n",
              "0        182  3.0  2.0      93.0         6.0       clouds         0.0   \n",
              "1        138  3.0  2.5      93.0         5.0        clear         0.0   \n",
              "2        134  2.5  2.5      96.5         0.0        clear         0.0   \n",
              "3         72  2.0  2.0     100.0         0.0        clear         0.0   \n",
              "4         47  2.0  0.0      93.0         6.5        clear         0.0   \n",
              "\n",
              "   is_weekend  season month  hour weekday  \n",
              "0         1.0  winter   Jan     0     Sun  \n",
              "1         1.0  winter   Jan     1     Sun  \n",
              "2         1.0  winter   Jan     2     Sun  \n",
              "3         1.0  winter   Jan     3     Sun  \n",
              "4         1.0  winter   Jan     4     Sun  "
            ],
            "text/html": [
              "\n",
              "  <div id=\"df-28d247e0-ea6e-4cdd-a1cf-455b15b604a9\" class=\"colab-df-container\">\n",
              "    <div>\n",
              "<style scoped>\n",
              "    .dataframe tbody tr th:only-of-type {\n",
              "        vertical-align: middle;\n",
              "    }\n",
              "\n",
              "    .dataframe tbody tr th {\n",
              "        vertical-align: top;\n",
              "    }\n",
              "\n",
              "    .dataframe thead th {\n",
              "        text-align: right;\n",
              "    }\n",
              "</style>\n",
              "<table border=\"1\" class=\"dataframe\">\n",
              "  <thead>\n",
              "    <tr style=\"text-align: right;\">\n",
              "      <th></th>\n",
              "      <th>num_bikes</th>\n",
              "      <th>t1</th>\n",
              "      <th>t2</th>\n",
              "      <th>humidity</th>\n",
              "      <th>wind_speed</th>\n",
              "      <th>weather_code</th>\n",
              "      <th>is_holiday</th>\n",
              "      <th>is_weekend</th>\n",
              "      <th>season</th>\n",
              "      <th>month</th>\n",
              "      <th>hour</th>\n",
              "      <th>weekday</th>\n",
              "    </tr>\n",
              "  </thead>\n",
              "  <tbody>\n",
              "    <tr>\n",
              "      <th>0</th>\n",
              "      <td>182</td>\n",
              "      <td>3.0</td>\n",
              "      <td>2.0</td>\n",
              "      <td>93.0</td>\n",
              "      <td>6.0</td>\n",
              "      <td>clouds</td>\n",
              "      <td>0.0</td>\n",
              "      <td>1.0</td>\n",
              "      <td>winter</td>\n",
              "      <td>Jan</td>\n",
              "      <td>0</td>\n",
              "      <td>Sun</td>\n",
              "    </tr>\n",
              "    <tr>\n",
              "      <th>1</th>\n",
              "      <td>138</td>\n",
              "      <td>3.0</td>\n",
              "      <td>2.5</td>\n",
              "      <td>93.0</td>\n",
              "      <td>5.0</td>\n",
              "      <td>clear</td>\n",
              "      <td>0.0</td>\n",
              "      <td>1.0</td>\n",
              "      <td>winter</td>\n",
              "      <td>Jan</td>\n",
              "      <td>1</td>\n",
              "      <td>Sun</td>\n",
              "    </tr>\n",
              "    <tr>\n",
              "      <th>2</th>\n",
              "      <td>134</td>\n",
              "      <td>2.5</td>\n",
              "      <td>2.5</td>\n",
              "      <td>96.5</td>\n",
              "      <td>0.0</td>\n",
              "      <td>clear</td>\n",
              "      <td>0.0</td>\n",
              "      <td>1.0</td>\n",
              "      <td>winter</td>\n",
              "      <td>Jan</td>\n",
              "      <td>2</td>\n",
              "      <td>Sun</td>\n",
              "    </tr>\n",
              "    <tr>\n",
              "      <th>3</th>\n",
              "      <td>72</td>\n",
              "      <td>2.0</td>\n",
              "      <td>2.0</td>\n",
              "      <td>100.0</td>\n",
              "      <td>0.0</td>\n",
              "      <td>clear</td>\n",
              "      <td>0.0</td>\n",
              "      <td>1.0</td>\n",
              "      <td>winter</td>\n",
              "      <td>Jan</td>\n",
              "      <td>3</td>\n",
              "      <td>Sun</td>\n",
              "    </tr>\n",
              "    <tr>\n",
              "      <th>4</th>\n",
              "      <td>47</td>\n",
              "      <td>2.0</td>\n",
              "      <td>0.0</td>\n",
              "      <td>93.0</td>\n",
              "      <td>6.5</td>\n",
              "      <td>clear</td>\n",
              "      <td>0.0</td>\n",
              "      <td>1.0</td>\n",
              "      <td>winter</td>\n",
              "      <td>Jan</td>\n",
              "      <td>4</td>\n",
              "      <td>Sun</td>\n",
              "    </tr>\n",
              "  </tbody>\n",
              "</table>\n",
              "</div>\n",
              "    <div class=\"colab-df-buttons\">\n",
              "\n",
              "  <div class=\"colab-df-container\">\n",
              "    <button class=\"colab-df-convert\" onclick=\"convertToInteractive('df-28d247e0-ea6e-4cdd-a1cf-455b15b604a9')\"\n",
              "            title=\"Convert this dataframe to an interactive table.\"\n",
              "            style=\"display:none;\">\n",
              "\n",
              "  <svg xmlns=\"http://www.w3.org/2000/svg\" height=\"24px\" viewBox=\"0 -960 960 960\">\n",
              "    <path d=\"M120-120v-720h720v720H120Zm60-500h600v-160H180v160Zm220 220h160v-160H400v160Zm0 220h160v-160H400v160ZM180-400h160v-160H180v160Zm440 0h160v-160H620v160ZM180-180h160v-160H180v160Zm440 0h160v-160H620v160Z\"/>\n",
              "  </svg>\n",
              "    </button>\n",
              "\n",
              "  <style>\n",
              "    .colab-df-container {\n",
              "      display:flex;\n",
              "      gap: 12px;\n",
              "    }\n",
              "\n",
              "    .colab-df-convert {\n",
              "      background-color: #E8F0FE;\n",
              "      border: none;\n",
              "      border-radius: 50%;\n",
              "      cursor: pointer;\n",
              "      display: none;\n",
              "      fill: #1967D2;\n",
              "      height: 32px;\n",
              "      padding: 0 0 0 0;\n",
              "      width: 32px;\n",
              "    }\n",
              "\n",
              "    .colab-df-convert:hover {\n",
              "      background-color: #E2EBFA;\n",
              "      box-shadow: 0px 1px 2px rgba(60, 64, 67, 0.3), 0px 1px 3px 1px rgba(60, 64, 67, 0.15);\n",
              "      fill: #174EA6;\n",
              "    }\n",
              "\n",
              "    .colab-df-buttons div {\n",
              "      margin-bottom: 4px;\n",
              "    }\n",
              "\n",
              "    [theme=dark] .colab-df-convert {\n",
              "      background-color: #3B4455;\n",
              "      fill: #D2E3FC;\n",
              "    }\n",
              "\n",
              "    [theme=dark] .colab-df-convert:hover {\n",
              "      background-color: #434B5C;\n",
              "      box-shadow: 0px 1px 3px 1px rgba(0, 0, 0, 0.15);\n",
              "      filter: drop-shadow(0px 1px 2px rgba(0, 0, 0, 0.3));\n",
              "      fill: #FFFFFF;\n",
              "    }\n",
              "  </style>\n",
              "\n",
              "    <script>\n",
              "      const buttonEl =\n",
              "        document.querySelector('#df-28d247e0-ea6e-4cdd-a1cf-455b15b604a9 button.colab-df-convert');\n",
              "      buttonEl.style.display =\n",
              "        google.colab.kernel.accessAllowed ? 'block' : 'none';\n",
              "\n",
              "      async function convertToInteractive(key) {\n",
              "        const element = document.querySelector('#df-28d247e0-ea6e-4cdd-a1cf-455b15b604a9');\n",
              "        const dataTable =\n",
              "          await google.colab.kernel.invokeFunction('convertToInteractive',\n",
              "                                                    [key], {});\n",
              "        if (!dataTable) return;\n",
              "\n",
              "        const docLinkHtml = 'Like what you see? Visit the ' +\n",
              "          '<a target=\"_blank\" href=https://colab.research.google.com/notebooks/data_table.ipynb>data table notebook</a>'\n",
              "          + ' to learn more about interactive tables.';\n",
              "        element.innerHTML = '';\n",
              "        dataTable['output_type'] = 'display_data';\n",
              "        await google.colab.output.renderOutput(dataTable, element);\n",
              "        const docLink = document.createElement('div');\n",
              "        docLink.innerHTML = docLinkHtml;\n",
              "        element.appendChild(docLink);\n",
              "      }\n",
              "    </script>\n",
              "  </div>\n",
              "\n",
              "\n",
              "<div id=\"df-7bdb7990-ebb0-4087-a4e6-d1b232484b31\">\n",
              "  <button class=\"colab-df-quickchart\" onclick=\"quickchart('df-7bdb7990-ebb0-4087-a4e6-d1b232484b31')\"\n",
              "            title=\"Suggest charts\"\n",
              "            style=\"display:none;\">\n",
              "\n",
              "<svg xmlns=\"http://www.w3.org/2000/svg\" height=\"24px\"viewBox=\"0 0 24 24\"\n",
              "     width=\"24px\">\n",
              "    <g>\n",
              "        <path d=\"M19 3H5c-1.1 0-2 .9-2 2v14c0 1.1.9 2 2 2h14c1.1 0 2-.9 2-2V5c0-1.1-.9-2-2-2zM9 17H7v-7h2v7zm4 0h-2V7h2v10zm4 0h-2v-4h2v4z\"/>\n",
              "    </g>\n",
              "</svg>\n",
              "  </button>\n",
              "\n",
              "<style>\n",
              "  .colab-df-quickchart {\n",
              "      --bg-color: #E8F0FE;\n",
              "      --fill-color: #1967D2;\n",
              "      --hover-bg-color: #E2EBFA;\n",
              "      --hover-fill-color: #174EA6;\n",
              "      --disabled-fill-color: #AAA;\n",
              "      --disabled-bg-color: #DDD;\n",
              "  }\n",
              "\n",
              "  [theme=dark] .colab-df-quickchart {\n",
              "      --bg-color: #3B4455;\n",
              "      --fill-color: #D2E3FC;\n",
              "      --hover-bg-color: #434B5C;\n",
              "      --hover-fill-color: #FFFFFF;\n",
              "      --disabled-bg-color: #3B4455;\n",
              "      --disabled-fill-color: #666;\n",
              "  }\n",
              "\n",
              "  .colab-df-quickchart {\n",
              "    background-color: var(--bg-color);\n",
              "    border: none;\n",
              "    border-radius: 50%;\n",
              "    cursor: pointer;\n",
              "    display: none;\n",
              "    fill: var(--fill-color);\n",
              "    height: 32px;\n",
              "    padding: 0;\n",
              "    width: 32px;\n",
              "  }\n",
              "\n",
              "  .colab-df-quickchart:hover {\n",
              "    background-color: var(--hover-bg-color);\n",
              "    box-shadow: 0 1px 2px rgba(60, 64, 67, 0.3), 0 1px 3px 1px rgba(60, 64, 67, 0.15);\n",
              "    fill: var(--button-hover-fill-color);\n",
              "  }\n",
              "\n",
              "  .colab-df-quickchart-complete:disabled,\n",
              "  .colab-df-quickchart-complete:disabled:hover {\n",
              "    background-color: var(--disabled-bg-color);\n",
              "    fill: var(--disabled-fill-color);\n",
              "    box-shadow: none;\n",
              "  }\n",
              "\n",
              "  .colab-df-spinner {\n",
              "    border: 2px solid var(--fill-color);\n",
              "    border-color: transparent;\n",
              "    border-bottom-color: var(--fill-color);\n",
              "    animation:\n",
              "      spin 1s steps(1) infinite;\n",
              "  }\n",
              "\n",
              "  @keyframes spin {\n",
              "    0% {\n",
              "      border-color: transparent;\n",
              "      border-bottom-color: var(--fill-color);\n",
              "      border-left-color: var(--fill-color);\n",
              "    }\n",
              "    20% {\n",
              "      border-color: transparent;\n",
              "      border-left-color: var(--fill-color);\n",
              "      border-top-color: var(--fill-color);\n",
              "    }\n",
              "    30% {\n",
              "      border-color: transparent;\n",
              "      border-left-color: var(--fill-color);\n",
              "      border-top-color: var(--fill-color);\n",
              "      border-right-color: var(--fill-color);\n",
              "    }\n",
              "    40% {\n",
              "      border-color: transparent;\n",
              "      border-right-color: var(--fill-color);\n",
              "      border-top-color: var(--fill-color);\n",
              "    }\n",
              "    60% {\n",
              "      border-color: transparent;\n",
              "      border-right-color: var(--fill-color);\n",
              "    }\n",
              "    80% {\n",
              "      border-color: transparent;\n",
              "      border-right-color: var(--fill-color);\n",
              "      border-bottom-color: var(--fill-color);\n",
              "    }\n",
              "    90% {\n",
              "      border-color: transparent;\n",
              "      border-bottom-color: var(--fill-color);\n",
              "    }\n",
              "  }\n",
              "</style>\n",
              "\n",
              "  <script>\n",
              "    async function quickchart(key) {\n",
              "      const quickchartButtonEl =\n",
              "        document.querySelector('#' + key + ' button');\n",
              "      quickchartButtonEl.disabled = true;  // To prevent multiple clicks.\n",
              "      quickchartButtonEl.classList.add('colab-df-spinner');\n",
              "      try {\n",
              "        const charts = await google.colab.kernel.invokeFunction(\n",
              "            'suggestCharts', [key], {});\n",
              "      } catch (error) {\n",
              "        console.error('Error during call to suggestCharts:', error);\n",
              "      }\n",
              "      quickchartButtonEl.classList.remove('colab-df-spinner');\n",
              "      quickchartButtonEl.classList.add('colab-df-quickchart-complete');\n",
              "    }\n",
              "    (() => {\n",
              "      let quickchartButtonEl =\n",
              "        document.querySelector('#df-7bdb7990-ebb0-4087-a4e6-d1b232484b31 button');\n",
              "      quickchartButtonEl.style.display =\n",
              "        google.colab.kernel.accessAllowed ? 'block' : 'none';\n",
              "    })();\n",
              "  </script>\n",
              "</div>\n",
              "    </div>\n",
              "  </div>\n"
            ],
            "application/vnd.google.colaboratory.intrinsic+json": {
              "type": "dataframe",
              "variable_name": "bike",
              "summary": "{\n  \"name\": \"bike\",\n  \"rows\": 17414,\n  \"fields\": [\n    {\n      \"column\": \"num_bikes\",\n      \"properties\": {\n        \"dtype\": \"number\",\n        \"std\": 1085,\n        \"min\": 0,\n        \"max\": 7860,\n        \"num_unique_values\": 3781,\n        \"samples\": [\n          1417,\n          2143,\n          3979\n        ],\n        \"semantic_type\": \"\",\n        \"description\": \"\"\n      }\n    },\n    {\n      \"column\": \"t1\",\n      \"properties\": {\n        \"dtype\": \"number\",\n        \"std\": 5.571817562920526,\n        \"min\": -1.5,\n        \"max\": 34.0,\n        \"num_unique_values\": 73,\n        \"samples\": [\n          1.5,\n          33.5,\n          4.5\n        ],\n        \"semantic_type\": \"\",\n        \"description\": \"\"\n      }\n    },\n    {\n      \"column\": \"t2\",\n      \"properties\": {\n        \"dtype\": \"number\",\n        \"std\": 6.615144673127893,\n        \"min\": -6.0,\n        \"max\": 34.0,\n        \"num_unique_values\": 82,\n        \"samples\": [\n          14.0,\n          2.0,\n          11.5\n        ],\n        \"semantic_type\": \"\",\n        \"description\": \"\"\n      }\n    },\n    {\n      \"column\": \"humidity\",\n      \"properties\": {\n        \"dtype\": \"number\",\n        \"std\": 14.313186095310977,\n        \"min\": 20.5,\n        \"max\": 100.0,\n        \"num_unique_values\": 143,\n        \"samples\": [\n          29.5,\n          71.5,\n          40.0\n        ],\n        \"semantic_type\": \"\",\n        \"description\": \"\"\n      }\n    },\n    {\n      \"column\": \"wind_speed\",\n      \"properties\": {\n        \"dtype\": \"number\",\n        \"std\": 7.894570329361161,\n        \"min\": 0.0,\n        \"max\": 56.5,\n        \"num_unique_values\": 103,\n        \"samples\": [\n          30.0,\n          2.0,\n          23.5\n        ],\n        \"semantic_type\": \"\",\n        \"description\": \"\"\n      }\n    },\n    {\n      \"column\": \"weather_code\",\n      \"properties\": {\n        \"dtype\": \"category\",\n        \"num_unique_values\": 7,\n        \"samples\": [\n          \"clouds\",\n          \"clear\",\n          \"snow\"\n        ],\n        \"semantic_type\": \"\",\n        \"description\": \"\"\n      }\n    },\n    {\n      \"column\": \"is_holiday\",\n      \"properties\": {\n        \"dtype\": \"number\",\n        \"std\": 0.1468543671527596,\n        \"min\": 0.0,\n        \"max\": 1.0,\n        \"num_unique_values\": 2,\n        \"samples\": [\n          1.0,\n          0.0\n        ],\n        \"semantic_type\": \"\",\n        \"description\": \"\"\n      }\n    },\n    {\n      \"column\": \"is_weekend\",\n      \"properties\": {\n        \"dtype\": \"number\",\n        \"std\": 0.45161891757102296,\n        \"min\": 0.0,\n        \"max\": 1.0,\n        \"num_unique_values\": 2,\n        \"samples\": [\n          0.0,\n          1.0\n        ],\n        \"semantic_type\": \"\",\n        \"description\": \"\"\n      }\n    },\n    {\n      \"column\": \"season\",\n      \"properties\": {\n        \"dtype\": \"category\",\n        \"num_unique_values\": 4,\n        \"samples\": [\n          \"spring\",\n          \"autumn\"\n        ],\n        \"semantic_type\": \"\",\n        \"description\": \"\"\n      }\n    },\n    {\n      \"column\": \"month\",\n      \"properties\": {\n        \"dtype\": \"category\",\n        \"num_unique_values\": 12,\n        \"samples\": [\n          \"Nov\",\n          \"Oct\"\n        ],\n        \"semantic_type\": \"\",\n        \"description\": \"\"\n      }\n    },\n    {\n      \"column\": \"hour\",\n      \"properties\": {\n        \"dtype\": \"int32\",\n        \"num_unique_values\": 24,\n        \"samples\": [\n          8,\n          16\n        ],\n        \"semantic_type\": \"\",\n        \"description\": \"\"\n      }\n    },\n    {\n      \"column\": \"weekday\",\n      \"properties\": {\n        \"dtype\": \"category\",\n        \"num_unique_values\": 7,\n        \"samples\": [\n          \"Sun\",\n          \"Mon\"\n        ],\n        \"semantic_type\": \"\",\n        \"description\": \"\"\n      }\n    }\n  ]\n}"
            }
          },
          "metadata": {},
          "execution_count": 58
        }
      ],
      "source": [
        "bike.head()"
      ]
    },
    {
      "cell_type": "markdown",
      "metadata": {
        "id": "JMaHQ_Py-z-H"
      },
      "source": [
        "#### Dati mancanti\n",
        "Si rilevano, se presenti, valori nulli nel dataset.  \n",
        "Possiamo applicare `isna` ad un frame e usare a cascata un metodo di aggregazione per verificare la presenza di valori mancanti nelle singole colonne."
      ]
    },
    {
      "cell_type": "code",
      "execution_count": 59,
      "metadata": {
        "colab": {
          "base_uri": "https://localhost:8080/"
        },
        "id": "M1hMHRVu_j9A",
        "outputId": "e0a7d370-d55f-43f5-cd54-9fd578a721b9"
      },
      "outputs": [
        {
          "output_type": "execute_result",
          "data": {
            "text/plain": [
              "num_bikes       False\n",
              "t1              False\n",
              "t2              False\n",
              "humidity        False\n",
              "wind_speed      False\n",
              "weather_code    False\n",
              "is_holiday      False\n",
              "is_weekend      False\n",
              "season          False\n",
              "month           False\n",
              "hour            False\n",
              "weekday         False\n",
              "dtype: bool"
            ]
          },
          "metadata": {},
          "execution_count": 59
        }
      ],
      "source": [
        "bike.isna().any()"
      ]
    },
    {
      "cell_type": "markdown",
      "metadata": {
        "id": "rrCsK-13_nfe"
      },
      "source": [
        "Come già visto anche con il metodo `info`, in questo dataset non sono presenti valori nulli e quindi non risulta necessario trattare quest'ultimi."
      ]
    },
    {
      "cell_type": "markdown",
      "metadata": {
        "id": "aIrR3FoPAH9R"
      },
      "source": [
        "####Tipi di dato\n",
        "`read_csv` dove possibile deduce in automatico i tipi delle colonne. Usiamo il metodo `info` per ottenere informazioni sui tipi di colonne e sul peso in memoria del frame caricato."
      ]
    },
    {
      "cell_type": "code",
      "execution_count": 60,
      "metadata": {
        "colab": {
          "base_uri": "https://localhost:8080/"
        },
        "id": "HNb1m0RfAQe3",
        "outputId": "00d1b5b2-b1c6-4c9d-eaa5-79b0ddf17fef"
      },
      "outputs": [
        {
          "output_type": "stream",
          "name": "stdout",
          "text": [
            "<class 'pandas.core.frame.DataFrame'>\n",
            "RangeIndex: 17414 entries, 0 to 17413\n",
            "Data columns (total 12 columns):\n",
            " #   Column        Non-Null Count  Dtype   \n",
            "---  ------        --------------  -----   \n",
            " 0   num_bikes     17414 non-null  int64   \n",
            " 1   t1            17414 non-null  float64 \n",
            " 2   t2            17414 non-null  float64 \n",
            " 3   humidity      17414 non-null  float64 \n",
            " 4   wind_speed    17414 non-null  float64 \n",
            " 5   weather_code  17414 non-null  category\n",
            " 6   is_holiday    17414 non-null  float64 \n",
            " 7   is_weekend    17414 non-null  float64 \n",
            " 8   season        17414 non-null  category\n",
            " 9   month         17414 non-null  category\n",
            " 10  hour          17414 non-null  int32   \n",
            " 11  weekday       17414 non-null  category\n",
            "dtypes: category(4), float64(6), int32(1), int64(1)\n",
            "memory usage: 1.1 MB\n"
          ]
        }
      ],
      "source": [
        "bike.info(memory_usage=\"deep\")"
      ]
    },
    {
      "cell_type": "markdown",
      "metadata": {
        "id": "mHwPZhQ6Aksi"
      },
      "source": [
        "pandas ha usato tipi numerici (`int32`,`int64`,`float64`) dove ha trovato dati numerici. Sappiamo però che le colonne `is_holiday` e `is_weekend` sono binarie, ovvero hanno solo valori 0 e 1. Possiamo quindi sostituire queste colonne con le loro conversioni in serie booleane usando il metodo `astype`"
      ]
    },
    {
      "cell_type": "code",
      "execution_count": 61,
      "metadata": {
        "id": "E7eqmrjyArh1"
      },
      "outputs": [],
      "source": [
        "bike[\"is_holiday\"] = bike[\"is_holiday\"].astype(bool)\n",
        "bike[\"is_weekend\"] = bike[\"is_weekend\"].astype(bool)"
      ]
    },
    {
      "cell_type": "markdown",
      "metadata": {
        "id": "m4AgqLLJAt9m"
      },
      "source": [
        "Sappiamo inoltre che le colonne `month` e `hour` sono di tipo categorico: per queste è possibile usare il tipo di dato `category` che memorizza in modo efficiente colonne di questo tipo e fornisce operazioni specifiche."
      ]
    },
    {
      "cell_type": "code",
      "execution_count": 62,
      "metadata": {
        "id": "gili_n6UAxd8"
      },
      "outputs": [],
      "source": [
        "bike[\"month\"] = bike[\"month\"].astype(\"category\")\n",
        "bike[\"hour\"] = bike[\"hour\"].astype(\"category\")"
      ]
    },
    {
      "cell_type": "markdown",
      "metadata": {
        "id": "fVzWJ6NhA_4f"
      },
      "source": [
        "Queste conversioni aiutano a ridurre il peso in memoria dei dataset."
      ]
    },
    {
      "cell_type": "code",
      "execution_count": 63,
      "metadata": {
        "colab": {
          "base_uri": "https://localhost:8080/"
        },
        "id": "lvJSgl62BCrF",
        "outputId": "7705fdf4-e887-4391-b83b-02a284194b4e"
      },
      "outputs": [
        {
          "output_type": "stream",
          "name": "stdout",
          "text": [
            "<class 'pandas.core.frame.DataFrame'>\n",
            "RangeIndex: 17414 entries, 0 to 17413\n",
            "Data columns (total 12 columns):\n",
            " #   Column        Non-Null Count  Dtype   \n",
            "---  ------        --------------  -----   \n",
            " 0   num_bikes     17414 non-null  int64   \n",
            " 1   t1            17414 non-null  float64 \n",
            " 2   t2            17414 non-null  float64 \n",
            " 3   humidity      17414 non-null  float64 \n",
            " 4   wind_speed    17414 non-null  float64 \n",
            " 5   weather_code  17414 non-null  category\n",
            " 6   is_holiday    17414 non-null  bool    \n",
            " 7   is_weekend    17414 non-null  bool    \n",
            " 8   season        17414 non-null  category\n",
            " 9   month         17414 non-null  category\n",
            " 10  hour          17414 non-null  category\n",
            " 11  weekday       17414 non-null  category\n",
            "dtypes: bool(2), category(5), float64(4), int64(1)\n",
            "memory usage: 802.8 KB\n"
          ]
        }
      ],
      "source": [
        "bike.info(memory_usage=\"deep\")"
      ]
    },
    {
      "cell_type": "markdown",
      "metadata": {
        "id": "V7TEgVF_5seF"
      },
      "source": [
        "##Analisi esplorativa\n",
        "Visualizziamo alcune statistiche per prendere coscienza dei dati che dovremo analizzare e delle caratteristiche del dominio applicativo."
      ]
    },
    {
      "cell_type": "code",
      "execution_count": 64,
      "metadata": {
        "id": "AvZzb59zIXBt"
      },
      "outputs": [],
      "source": [
        "import seaborn as sns\n",
        "\n",
        "def var_correlation(dataset):\n",
        "\n",
        "    # Select only numeric columns from the dataset\n",
        "    numeric_cols = dataset.select_dtypes(include=np.number)\n",
        "\n",
        "    # Compute the correlation matrix\n",
        "    corr_matrix = numeric_cols.corr()\n",
        "\n",
        "    f, ax = plt.subplots(figsize=(11, 9))\n",
        "\n",
        "    # Generate a mask for the upper triangle\n",
        "    mask = np.zeros_like(corr_matrix, dtype=bool)\n",
        "    mask[np.triu_indices_from(mask)] = True\n",
        "\n",
        "    cmap = sns.diverging_palette(220, 10, as_cmap=True)\n",
        "\n",
        "    sns.heatmap(corr_matrix, mask=mask, cmap=cmap, vmax=.3, center=0, annot=True,\n",
        "                square=True, linewidths=.5, cbar_kws={\"shrink\": .5})"
      ]
    },
    {
      "cell_type": "code",
      "execution_count": 65,
      "metadata": {
        "colab": {
          "base_uri": "https://localhost:8080/",
          "height": 742
        },
        "id": "2lxOi92rD883",
        "outputId": "f7e759e6-1ee2-49a1-82a3-dbe21cbdcec3"
      },
      "outputs": [
        {
          "output_type": "display_data",
          "data": {
            "text/plain": [
              "<Figure size 1100x900 with 2 Axes>"
            ],
            "image/png": "[encoded data removed]"
          },
          "metadata": {}
        }
      ],
      "source": [
        "var_correlation(bike)"
      ]
    },
    {
      "cell_type": "markdown",
      "metadata": {
        "id": "SeZdEk9cKRyk"
      },
      "source": [
        "Il dataset non mostra nessun parametro con una correlazione forte (> 75%) con la variabile dipendente `num_bikes`: la temperatura reale e percepita sembrano leggermente correlate positivamente con il numero di biciclette noleggiate, così come la variabile `wind_speed`. Al contrario, l'umidità mostra una correlazione negativa.\n",
        "\n",
        "I grafici a dispersione, ottenuti attraverso la libreria matplotlib, confermano visivamente le leggere correlazioni osservate per gli attributi presenti nel dataframe."
      ]
    },
    {
      "cell_type": "code",
      "execution_count": 66,
      "metadata": {
        "colab": {
          "base_uri": "https://localhost:8080/",
          "height": 542
        },
        "id": "CMKWmG3YKDgI",
        "outputId": "e4312d8e-dd5e-4400-c395-50ec49061229"
      },
      "outputs": [
        {
          "output_type": "display_data",
          "data": {
            "text/plain": [
              "<Figure size 1200x600 with 2 Axes>"
            ],
            "image/png": "[encoded data removed]"
          },
          "metadata": {}
        }
      ],
      "source": [
        "fig = plt.figure(figsize=(12, 6))\n",
        "\n",
        "ax1 = fig.add_subplot(121)\n",
        "bike.sample(4000, random_state=42).plot.scatter(\"t1\", \"num_bikes\", ax=ax1)\n",
        "\n",
        "ax2 = fig.add_subplot(122)\n",
        "bike.sample(4000, random_state=42).plot.scatter(\"humidity\", \"num_bikes\", ax=ax2)\n",
        "\n",
        "plt.show()"
      ]
    },
    {
      "cell_type": "markdown",
      "metadata": {
        "id": "LsSX-W_TO5rY"
      },
      "source": [
        "Esaminiamo anche i dati relativi all'ora, al mese e al giorno della settimana per identificare se ci sono periodi in cui il noleggio di bicilette è più elevato."
      ]
    },
    {
      "cell_type": "code",
      "execution_count": 67,
      "metadata": {
        "colab": {
          "base_uri": "https://localhost:8080/",
          "height": 423
        },
        "id": "kSVeH4PZL3CL",
        "outputId": "c7afd357-42ae-459d-aecb-c6d3f0dfa1b8"
      },
      "outputs": [
        {
          "output_type": "execute_result",
          "data": {
            "text/plain": [
              "<Axes: xlabel='weekday', ylabel='num_bikes'>"
            ]
          },
          "metadata": {},
          "execution_count": 67
        },
        {
          "output_type": "display_data",
          "data": {
            "text/plain": [
              "<Figure size 2400x800 with 3 Axes>"
            ],
            "image/png": "[encoded data removed]"
          },
          "metadata": {}
        }
      ],
      "source": [
        "figure, (ax1, ax2, ax3) = plt.subplots(nrows=1, ncols=3)\n",
        "figure.set_size_inches(24, 8)\n",
        "\n",
        "sns.boxplot(data=bike, x='month', y='num_bikes', ax=ax1)\n",
        "sns.boxplot(data=bike, x='hour', y='num_bikes', ax=ax2)\n",
        "sns.boxplot(data=bike, x='weekday', y='num_bikes', ax=ax3)"
      ]
    },
    {
      "cell_type": "markdown",
      "metadata": {
        "id": "Ut1Gg2SaO4I3"
      },
      "source": [
        "Analizzando il box plot del mese, si osserva un picco durante l'estate, in particolare a luglio, con i mesi da aprile a ottobre (presumibilmente quando il clima è più caldo) che registrano conteggi più alti rispetto al resto dell'anno. Il box plot dell'ora mostra il traffico più intenso durante le ore di punta per pendolari al mattino (7-9) e nel pomeriggio (16-19), con un forte calo durante la notte quando è buio. Il box plot del giorno della settimana mostra una modesta diminuzione il sabato e la domenica a causa del weekend"
      ]
    },
    {
      "cell_type": "code",
      "execution_count": 68,
      "metadata": {
        "colab": {
          "base_uri": "https://localhost:8080/",
          "height": 447
        },
        "id": "Nfuq4WB5NsuH",
        "outputId": "c04423d6-e480-430f-b72b-68c56f7b3d9a"
      },
      "outputs": [
        {
          "output_type": "execute_result",
          "data": {
            "text/plain": [
              "<BarContainer object of 3 artists>"
            ]
          },
          "metadata": {},
          "execution_count": 68
        },
        {
          "output_type": "display_data",
          "data": {
            "text/plain": [
              "<Figure size 640x480 with 1 Axes>"
            ],
            "image/png": "[encoded data removed]"
          },
          "metadata": {}
        }
      ],
      "source": [
        "data = {'is_holiday':len(bike[bike['is_holiday'] == 1]), 'is_weekend':len(bike[bike['is_weekend'] == 1]),\n",
        "        'weekday':len(bike[(bike['is_holiday'] != 1) & (bike['is_weekend'] != 1)]) }\n",
        "\n",
        "plt.bar(list(data.keys()), list(data.values()))"
      ]
    },
    {
      "cell_type": "markdown",
      "metadata": {
        "id": "tU330QdpQQE2"
      },
      "source": [
        "Visualizzando infatti il numero di bicilette noleggiate nei giorni feriali, festivi e durante le vacanze, si può notare che il numero di noleggi durante le vacanze è quasi trascurabile e che la maggior parte delle biciclette vengono noleggiate durante la settimana"
      ]
    },
    {
      "cell_type": "code",
      "execution_count": 69,
      "metadata": {
        "colab": {
          "base_uri": "https://localhost:8080/",
          "height": 345
        },
        "id": "9xYD3VxNiE7H",
        "outputId": "fdcc2c69-7353-4772-ec4d-e92786d434e7"
      },
      "outputs": [
        {
          "output_type": "display_data",
          "data": {
            "text/plain": [
              "<Figure size 400x400 with 1 Axes>"
            ],
            "image/png": "[encoded data removed]"
          },
          "metadata": {}
        }
      ],
      "source": [
        "data=bike.groupby('is_holiday')['num_bikes'].sum()\n",
        "plt.figure(figsize=(4,4))\n",
        "plt.pie(data.values, labels=[\"Non-holidays\", \"Holidays\"], autopct='%1.1f%%')\n",
        "plt.show()"
      ]
    },
    {
      "cell_type": "markdown",
      "metadata": {
        "id": "T_yHtAv7s3K4"
      },
      "source": [
        "Possiamo notare infatti che solo l'1,5% di biciclette sono utilizzate durante le vacanze."
      ]
    },
    {
      "cell_type": "markdown",
      "metadata": {
        "id": "sKi8w4bVHRr9"
      },
      "source": [
        "Guardiamo ora come il clima e le diverse stagioni influiscono sul noleggio delle biciclette."
      ]
    },
    {
      "cell_type": "code",
      "execution_count": 70,
      "metadata": {
        "colab": {
          "base_uri": "https://localhost:8080/",
          "height": 451
        },
        "id": "SohdOWiZ-zRd",
        "outputId": "b6fc9946-b616-41fd-8645-ec4fa588add5"
      },
      "outputs": [
        {
          "output_type": "display_data",
          "data": {
            "text/plain": [
              "<Figure size 1200x400 with 2 Axes>"
            ],
            "image/png": "[encoded data removed]"
          },
          "metadata": {}
        }
      ],
      "source": [
        "fig = plt.figure(figsize=(12, 4))\n",
        "\n",
        "ax1 = fig.add_subplot(121)\n",
        "data=bike.groupby('season')['num_bikes'].sum()\n",
        "data.plot.pie(labels=data.index.tolist() , autopct='%1.1f%%', ax=ax1, ylabel='')\n",
        "\n",
        "ax2 = fig.add_subplot(122)\n",
        "bike[\"weather_code\"].value_counts().plot.bar(ax=ax2, ylabel=\"num_bikes\")\n",
        "plt.show()"
      ]
    },
    {
      "cell_type": "markdown",
      "metadata": {
        "id": "fIIt6T6z_gPd"
      },
      "source": [
        "Confrontando il noleggio di biciclette nelle diverse stagioni, osserviamo che l'estate ha il numero più alto di noleggi, seguita dall'autunno e dalla primavera. Il grafico a barre infatti dimostra che le persone preferiscono climi caldi o piacevoli rispetto a climi più freddi."
      ]
    },
    {
      "cell_type": "markdown",
      "metadata": {
        "id": "QJFubyddvh5B"
      },
      "source": [
        "##Preparazione dei dati"
      ]
    },
    {
      "cell_type": "markdown",
      "metadata": {
        "id": "U36Efh1pHtqT"
      },
      "source": [
        "Abbiamo visto che `t2` ha una correlazione del 99% con `t1` che corrisponde alla temperatura reale media. Siccome dipendenze tra le variabili in input rendono la regressione instabile, cioè piccole variazioni nei dati generano modelli molto diversi e inaffidabili, eliminiamo la corrispondente colonna dal dataframe."
      ]
    },
    {
      "cell_type": "code",
      "execution_count": 71,
      "metadata": {
        "id": "Mwq38k1MbSGj"
      },
      "outputs": [],
      "source": [
        "bike = bike.drop(columns=[\"t2\"])"
      ]
    },
    {
      "cell_type": "markdown",
      "metadata": {
        "id": "E_Fl-di0MMA1"
      },
      "source": [
        "Abbiamo visto inoltre che l'uso della bicicletta è significativamente più elevato nelle prime ora del mattino e nel tardo pomeriggio. Aggiungo quindi una nuova colonna `is_rush_hour` al dataframe che,  siccome contine informazioni utili per spiegare la variazione della variabile dipendente, potrebbe aiutare il modello a fare previsioni più accurate."
      ]
    },
    {
      "cell_type": "code",
      "execution_count": 72,
      "metadata": {
        "id": "Ji16vi2wTtFe"
      },
      "outputs": [],
      "source": [
        "def is_rush_hour(hour):\n",
        "    if (7 <= hour <= 9) or (16 <= hour <= 19):\n",
        "        return 1\n",
        "    else:\n",
        "        return 0\n",
        "\n",
        "bike['is_rush_hour'] = bike['hour'].apply(is_rush_hour).astype(bool)"
      ]
    },
    {
      "cell_type": "markdown",
      "metadata": {
        "id": "OhfUUUD113s0"
      },
      "source": [
        "Per la predizione utilizzeremo quasi tutte le colonne.\n",
        "\n",
        "Molte variabili hanno valori numerici, ma di diversa natura:\n",
        "\n",
        "  1. alcune variabili (es. `wind_speed`) esprimono effettivamente una quantità o una grandezza\n",
        "  2. altre variabili (es. `is_weekend`) sono binarie, valgono 1 dove la condizione è verificata e 0 dove non si verifica\n",
        "  3. altre variabili (es. `season`) esprimono dei \"codici\", i numeri servono solamente da identificatori univoci (sono di tipo \"nominale\")\n",
        "\n",
        "Creiamo tre liste con i nomi delle variabili che vogliamo usare per la predizione, suddivise nei rispettivi gruppi."
      ]
    },
    {
      "cell_type": "code",
      "execution_count": 73,
      "metadata": {
        "id": "u68nsku609mw"
      },
      "outputs": [],
      "source": [
        "numeric_vars = [\"t1\", \"humidity\", \"wind_speed\"]\n",
        "binary_vars = [\"is_holiday\", \"is_weekend\", \"rush_hour\"]\n",
        "categorical_vars = ['weather_code', 'season', 'month', 'hour', 'weekday']"
      ]
    },
    {
      "cell_type": "markdown",
      "metadata": {
        "id": "kiz85Vp52JRu"
      },
      "source": [
        "Per prima cosa dobbiamo convertire le features categoriche in valori numerici mediante binarizzazione in modo da poterle utilizzare nella regressione. Ad esempio, la variabile categorica `season` prevede 4 classi. Mediante questo metodo vengono create 4 colonne, `season_spring`, `season_summer`, `season_autumn` e `season_winter`, in cui sarà presente un 1 in corrispondenza della classe di appartenenza e 0 negli altri casi."
      ]
    },
    {
      "cell_type": "code",
      "execution_count": 74,
      "metadata": {
        "colab": {
          "base_uri": "https://localhost:8080/",
          "height": 130
        },
        "id": "Cz9kvEQ73mdk",
        "outputId": "60936aac-1452-4399-f22d-b2f07484cf33"
      },
      "outputs": [
        {
          "output_type": "execute_result",
          "data": {
            "text/plain": [
              "   num_bikes   t1  humidity  wind_speed  is_holiday  is_weekend  is_rush_hour  \\\n",
              "0        182  3.0      93.0         6.0       False        True         False   \n",
              "\n",
              "   weather_code_clear  weather_code_clouds  weather_code_cloudy  ...  hour_21  \\\n",
              "0               False                 True                False  ...    False   \n",
              "\n",
              "   hour_22  hour_23  weekday_Fri  weekday_Mon  weekday_Sat  weekday_Sun  \\\n",
              "0    False    False        False        False        False         True   \n",
              "\n",
              "   weekday_Thu  weekday_Tue  weekday_Wed  \n",
              "0        False        False        False  \n",
              "\n",
              "[1 rows x 61 columns]"
            ],
            "text/html": [
              "\n",
              "  <div id=\"df-11465e9f-4fca-481e-93a1-88c07c8600ce\" class=\"colab-df-container\">\n",
              "    <div>\n",
              "<style scoped>\n",
              "    .dataframe tbody tr th:only-of-type {\n",
              "        vertical-align: middle;\n",
              "    }\n",
              "\n",
              "    .dataframe tbody tr th {\n",
              "        vertical-align: top;\n",
              "    }\n",
              "\n",
              "    .dataframe thead th {\n",
              "        text-align: right;\n",
              "    }\n",
              "</style>\n",
              "<table border=\"1\" class=\"dataframe\">\n",
              "  <thead>\n",
              "    <tr style=\"text-align: right;\">\n",
              "      <th></th>\n",
              "      <th>num_bikes</th>\n",
              "      <th>t1</th>\n",
              "      <th>humidity</th>\n",
              "      <th>wind_speed</th>\n",
              "      <th>is_holiday</th>\n",
              "      <th>is_weekend</th>\n",
              "      <th>is_rush_hour</th>\n",
              "      <th>weather_code_clear</th>\n",
              "      <th>weather_code_clouds</th>\n",
              "      <th>weather_code_cloudy</th>\n",
              "      <th>...</th>\n",
              "      <th>hour_21</th>\n",
              "      <th>hour_22</th>\n",
              "      <th>hour_23</th>\n",
              "      <th>weekday_Fri</th>\n",
              "      <th>weekday_Mon</th>\n",
              "      <th>weekday_Sat</th>\n",
              "      <th>weekday_Sun</th>\n",
              "      <th>weekday_Thu</th>\n",
              "      <th>weekday_Tue</th>\n",
              "      <th>weekday_Wed</th>\n",
              "    </tr>\n",
              "  </thead>\n",
              "  <tbody>\n",
              "    <tr>\n",
              "      <th>0</th>\n",
              "      <td>182</td>\n",
              "      <td>3.0</td>\n",
              "      <td>93.0</td>\n",
              "      <td>6.0</td>\n",
              "      <td>False</td>\n",
              "      <td>True</td>\n",
              "      <td>False</td>\n",
              "      <td>False</td>\n",
              "      <td>True</td>\n",
              "      <td>False</td>\n",
              "      <td>...</td>\n",
              "      <td>False</td>\n",
              "      <td>False</td>\n",
              "      <td>False</td>\n",
              "      <td>False</td>\n",
              "      <td>False</td>\n",
              "      <td>False</td>\n",
              "      <td>True</td>\n",
              "      <td>False</td>\n",
              "      <td>False</td>\n",
              "      <td>False</td>\n",
              "    </tr>\n",
              "  </tbody>\n",
              "</table>\n",
              "<p>1 rows × 61 columns</p>\n",
              "</div>\n",
              "    <div class=\"colab-df-buttons\">\n",
              "\n",
              "  <div class=\"colab-df-container\">\n",
              "    <button class=\"colab-df-convert\" onclick=\"convertToInteractive('df-11465e9f-4fca-481e-93a1-88c07c8600ce')\"\n",
              "            title=\"Convert this dataframe to an interactive table.\"\n",
              "            style=\"display:none;\">\n",
              "\n",
              "  <svg xmlns=\"http://www.w3.org/2000/svg\" height=\"24px\" viewBox=\"0 -960 960 960\">\n",
              "    <path d=\"M120-120v-720h720v720H120Zm60-500h600v-160H180v160Zm220 220h160v-160H400v160Zm0 220h160v-160H400v160ZM180-400h160v-160H180v160Zm440 0h160v-160H620v160ZM180-180h160v-160H180v160Zm440 0h160v-160H620v160Z\"/>\n",
              "  </svg>\n",
              "    </button>\n",
              "\n",
              "  <style>\n",
              "    .colab-df-container {\n",
              "      display:flex;\n",
              "      gap: 12px;\n",
              "    }\n",
              "\n",
              "    .colab-df-convert {\n",
              "      background-color: #E8F0FE;\n",
              "      border: none;\n",
              "      border-radius: 50%;\n",
              "      cursor: pointer;\n",
              "      display: none;\n",
              "      fill: #1967D2;\n",
              "      height: 32px;\n",
              "      padding: 0 0 0 0;\n",
              "      width: 32px;\n",
              "    }\n",
              "\n",
              "    .colab-df-convert:hover {\n",
              "      background-color: #E2EBFA;\n",
              "      box-shadow: 0px 1px 2px rgba(60, 64, 67, 0.3), 0px 1px 3px 1px rgba(60, 64, 67, 0.15);\n",
              "      fill: #174EA6;\n",
              "    }\n",
              "\n",
              "    .colab-df-buttons div {\n",
              "      margin-bottom: 4px;\n",
              "    }\n",
              "\n",
              "    [theme=dark] .colab-df-convert {\n",
              "      background-color: #3B4455;\n",
              "      fill: #D2E3FC;\n",
              "    }\n",
              "\n",
              "    [theme=dark] .colab-df-convert:hover {\n",
              "      background-color: #434B5C;\n",
              "      box-shadow: 0px 1px 3px 1px rgba(0, 0, 0, 0.15);\n",
              "      filter: drop-shadow(0px 1px 2px rgba(0, 0, 0, 0.3));\n",
              "      fill: #FFFFFF;\n",
              "    }\n",
              "  </style>\n",
              "\n",
              "    <script>\n",
              "      const buttonEl =\n",
              "        document.querySelector('#df-11465e9f-4fca-481e-93a1-88c07c8600ce button.colab-df-convert');\n",
              "      buttonEl.style.display =\n",
              "        google.colab.kernel.accessAllowed ? 'block' : 'none';\n",
              "\n",
              "      async function convertToInteractive(key) {\n",
              "        const element = document.querySelector('#df-11465e9f-4fca-481e-93a1-88c07c8600ce');\n",
              "        const dataTable =\n",
              "          await google.colab.kernel.invokeFunction('convertToInteractive',\n",
              "                                                    [key], {});\n",
              "        if (!dataTable) return;\n",
              "\n",
              "        const docLinkHtml = 'Like what you see? Visit the ' +\n",
              "          '<a target=\"_blank\" href=https://colab.research.google.com/notebooks/data_table.ipynb>data table notebook</a>'\n",
              "          + ' to learn more about interactive tables.';\n",
              "        element.innerHTML = '';\n",
              "        dataTable['output_type'] = 'display_data';\n",
              "        await google.colab.output.renderOutput(dataTable, element);\n",
              "        const docLink = document.createElement('div');\n",
              "        docLink.innerHTML = docLinkHtml;\n",
              "        element.appendChild(docLink);\n",
              "      }\n",
              "    </script>\n",
              "  </div>\n",
              "\n",
              "    </div>\n",
              "  </div>\n"
            ],
            "application/vnd.google.colaboratory.intrinsic+json": {
              "type": "dataframe",
              "variable_name": "bike"
            }
          },
          "metadata": {},
          "execution_count": 74
        }
      ],
      "source": [
        "bike = pd.get_dummies(bike, columns=categorical_vars, prefix=categorical_vars)\n",
        "bike.head(1)"
      ]
    },
    {
      "cell_type": "markdown",
      "source": [
        "Analizzando la distribuzione della variabile target, possiamo notare che è fortemente asimmetrica in quanto la maggior parte dei valori sono concentrati sul lato sinistro della media. Siccome i dati distorti posso influire sulle prestazioni di molti algoritmi trasformo la variabile traget applicandone la radice quadrata."
      ],
      "metadata": {
        "id": "m27pPxa2AmLS"
      }
    },
    {
      "cell_type": "code",
      "source": [
        "before = bike[\"num_bikes\"]\n",
        "bike[\"num_bikes\"] = np.sqrt(bike[\"num_bikes\"])"
      ],
      "metadata": {
        "id": "kBuze3nnCryq"
      },
      "execution_count": 75,
      "outputs": []
    },
    {
      "cell_type": "code",
      "execution_count": 76,
      "metadata": {
        "colab": {
          "base_uri": "https://localhost:8080/",
          "height": 401
        },
        "id": "pvQtTqakcrIJ",
        "outputId": "d3cdc782-bc98-48d9-f479-3f4779087658"
      },
      "outputs": [
        {
          "output_type": "display_data",
          "data": {
            "text/plain": [
              "<Figure size 2400x800 with 2 Axes>"
            ],
            "image/png": "[encoded data removed]"
          },
          "metadata": {}
        }
      ],
      "source": [
        "figure, (ax1, ax2) = plt.subplots(nrows=1, ncols=2)\n",
        "figure.set_size_inches(24, 8)\n",
        "\n",
        "sns.distplot(before, ax=ax1, label=\"Rented Bike Count distribution (Before)\")\n",
        "ax1.axvline(before.mean(), color='magenta', linestyle='dashed')\n",
        "ax1.axvline(before.median(), color='cyan', linestyle='dashed')\n",
        "sns.distplot(bike[\"num_bikes\"], ax=ax2, label=\"Rented Bike Count distribution (After)\")\n",
        "ax2.axvline(bike[\"num_bikes\"].mean(), color='magenta', linestyle='dashed')\n",
        "ax2.axvline(bike[\"num_bikes\"].median(), color='cyan', linestyle='dashed')\n",
        "\n",
        "plt.show()"
      ]
    },
    {
      "cell_type": "markdown",
      "metadata": {
        "id": "rkFJcHo07QTz"
      },
      "source": [
        "Estraiamo dal frame\n",
        "\n",
        "- la serie `y` con i valori della variabile `num_bikes` da prevedere\n",
        "- il frame `X` con i valori di tutte le altre variabili, utilizzabili per la predizione"
      ]
    },
    {
      "cell_type": "code",
      "execution_count": 77,
      "metadata": {
        "id": "V7m6rwd12w6W"
      },
      "outputs": [],
      "source": [
        "from scipy import stats\n",
        "X = bike.drop('num_bikes', axis=1)\n",
        "y = bike['num_bikes']"
      ]
    },
    {
      "cell_type": "markdown",
      "metadata": {
        "id": "nDDtlCXv75QW"
      },
      "source": [
        "Dividiamo i dati caricati casualmente in training e validation set con la funzione `train_test_split`"
      ]
    },
    {
      "cell_type": "code",
      "execution_count": 78,
      "metadata": {
        "colab": {
          "base_uri": "https://localhost:8080/"
        },
        "id": "-FDZEZMR0CBT",
        "outputId": "e2f1547b-d4c4-47b9-cc89-cfff198faeec"
      },
      "outputs": [
        {
          "output_type": "stream",
          "name": "stdout",
          "text": [
            "Training Set: 11609 rows\n",
            "Test Set: 5805 rows\n"
          ]
        }
      ],
      "source": [
        "from sklearn.model_selection import train_test_split\n",
        "\n",
        "X_train, X_val, y_train, y_val = train_test_split(X, y, test_size=1/3, random_state=42)\n",
        "print(f'Training Set: {X_train.shape[0]} rows\\nTest Set: {X_val.shape[0]} rows')"
      ]
    },
    {
      "cell_type": "markdown",
      "metadata": {
        "id": "MtYht9C8_8oQ"
      },
      "source": [
        "##Addestramento\n",
        "\n",
        "Ora creiamo i modelli con l'ausilio delle Pipeline di sklearn.\n",
        "\n",
        "Visto che il numero di parametri è già molto alto rinunciamo all'utilizzo di regressione polinomiale che farebbe ulteriormente aumentare il numero delle feature e procediamo invece ad applicare diversi modelli di regressione utilizzando la grid search per individuare un set di iperparametri che massimizzi l'accuratezza.\n",
        "\n",
        "Importiamo per prima cosa le librerie necessarie:"
      ]
    },
    {
      "cell_type": "code",
      "execution_count": 79,
      "metadata": {
        "id": "hvEH3_C83Cis"
      },
      "outputs": [],
      "source": [
        "from sklearn.model_selection import GridSearchCV\n",
        "from sklearn.preprocessing import PolynomialFeatures, StandardScaler\n",
        "from sklearn.linear_model import LinearRegression, Ridge, Lasso\n",
        "from sklearn.kernel_ridge import KernelRidge\n",
        "from sklearn.pipeline import Pipeline\n",
        "#sopprimiamo i warning della GridSearch\n",
        "import warnings\n",
        "warnings.filterwarnings(\"ignore\")"
      ]
    },
    {
      "cell_type": "code",
      "execution_count": 80,
      "metadata": {
        "id": "6hUMbf_KxulQ"
      },
      "outputs": [],
      "source": [
        "from sklearn.metrics import mean_squared_error, mean_absolute_percentage_error, r2_score\n",
        "\n",
        "def print_eval(X, y, model):\n",
        "    preds = model.predict(X)\n",
        "    mse = mean_squared_error(y, preds)\n",
        "    re = mean_absolute_percentage_error(y, preds)\n",
        "    r2 = r2_score(y, preds)\n",
        "    n = X.shape[0]\n",
        "    p = X.shape[1]\n",
        "    r2_agg = 1- (1-r2)*((n-1)/(n-p))\n",
        "    print(f\"   Mean squared error: {mse:.5}\")\n",
        "    print(f\"       Relative error: {re:.5%}\")\n",
        "    print(f\"R-squared coefficient: {r2:.5}\")\n",
        "    print(f\"R-squared-agg coefficient: {r2_agg:.5}\")"
      ]
    },
    {
      "cell_type": "code",
      "execution_count": 81,
      "metadata": {
        "id": "Qoq9znut33sm"
      },
      "outputs": [],
      "source": [
        "def evaluate_model(X, y, model):\n",
        "    print_eval(X, y, model)\n",
        "\n",
        "    y_pred=model.predict(X)\n",
        "    plt.title(\"Actual v/s Predicted bike count\")\n",
        "    ax1 = sns.distplot(y,hist=False,color=\"green\",label=\"Actual\")\n",
        "    sns.distplot(y_pred,hist=False,color='red',label=\"Predicted\",ax = ax1)\n",
        "    plt.legend(title='legend', loc='upper right', labels=['Actual Value', 'Predicted Value'])\n",
        "    plt.show()"
      ]
    },
    {
      "cell_type": "markdown",
      "metadata": {
        "id": "mF1-bQbwGMna"
      },
      "source": [
        "###Regressione Lasso\n",
        "Testiamo se, con la regressione Lasso, possiamo eliminare alcune feature perché poco rilevanti.\n",
        "\n",
        "Creiamo una pipeline e facciamo partire la grid search che testa il modello in 5-cross fold validation secondo il set di iperparametri che gli chiediamo di valutare."
      ]
    },
    {
      "cell_type": "code",
      "execution_count": 82,
      "metadata": {
        "colab": {
          "base_uri": "https://localhost:8080/",
          "height": 175
        },
        "id": "P7NEdjxIAOFB",
        "outputId": "b2a9f4dc-fc96-40f6-9eae-ba620ce0f3a0"
      },
      "outputs": [
        {
          "output_type": "execute_result",
          "data": {
            "text/plain": [
              "   mean_test_score  mean_train_score                  params\n",
              "0         0.782570          0.784786  {'linreg__alpha': 0.1}\n",
              "1         0.697737          0.699175    {'linreg__alpha': 1}\n",
              "2         0.485134          0.485873    {'linreg__alpha': 3}\n",
              "3         0.345026          0.345715    {'linreg__alpha': 5}"
            ],
            "text/html": [
              "\n",
              "  <div id=\"df-13e8c9e2-a6c7-43a3-baee-58081cbd22f7\" class=\"colab-df-container\">\n",
              "    <div>\n",
              "<style scoped>\n",
              "    .dataframe tbody tr th:only-of-type {\n",
              "        vertical-align: middle;\n",
              "    }\n",
              "\n",
              "    .dataframe tbody tr th {\n",
              "        vertical-align: top;\n",
              "    }\n",
              "\n",
              "    .dataframe thead th {\n",
              "        text-align: right;\n",
              "    }\n",
              "</style>\n",
              "<table border=\"1\" class=\"dataframe\">\n",
              "  <thead>\n",
              "    <tr style=\"text-align: right;\">\n",
              "      <th></th>\n",
              "      <th>mean_test_score</th>\n",
              "      <th>mean_train_score</th>\n",
              "      <th>params</th>\n",
              "    </tr>\n",
              "  </thead>\n",
              "  <tbody>\n",
              "    <tr>\n",
              "      <th>0</th>\n",
              "      <td>0.782570</td>\n",
              "      <td>0.784786</td>\n",
              "      <td>{'linreg__alpha': 0.1}</td>\n",
              "    </tr>\n",
              "    <tr>\n",
              "      <th>1</th>\n",
              "      <td>0.697737</td>\n",
              "      <td>0.699175</td>\n",
              "      <td>{'linreg__alpha': 1}</td>\n",
              "    </tr>\n",
              "    <tr>\n",
              "      <th>2</th>\n",
              "      <td>0.485134</td>\n",
              "      <td>0.485873</td>\n",
              "      <td>{'linreg__alpha': 3}</td>\n",
              "    </tr>\n",
              "    <tr>\n",
              "      <th>3</th>\n",
              "      <td>0.345026</td>\n",
              "      <td>0.345715</td>\n",
              "      <td>{'linreg__alpha': 5}</td>\n",
              "    </tr>\n",
              "  </tbody>\n",
              "</table>\n",
              "</div>\n",
              "    <div class=\"colab-df-buttons\">\n",
              "\n",
              "  <div class=\"colab-df-container\">\n",
              "    <button class=\"colab-df-convert\" onclick=\"convertToInteractive('df-13e8c9e2-a6c7-43a3-baee-58081cbd22f7')\"\n",
              "            title=\"Convert this dataframe to an interactive table.\"\n",
              "            style=\"display:none;\">\n",
              "\n",
              "  <svg xmlns=\"http://www.w3.org/2000/svg\" height=\"24px\" viewBox=\"0 -960 960 960\">\n",
              "    <path d=\"M120-120v-720h720v720H120Zm60-500h600v-160H180v160Zm220 220h160v-160H400v160Zm0 220h160v-160H400v160ZM180-400h160v-160H180v160Zm440 0h160v-160H620v160ZM180-180h160v-160H180v160Zm440 0h160v-160H620v160Z\"/>\n",
              "  </svg>\n",
              "    </button>\n",
              "\n",
              "  <style>\n",
              "    .colab-df-container {\n",
              "      display:flex;\n",
              "      gap: 12px;\n",
              "    }\n",
              "\n",
              "    .colab-df-convert {\n",
              "      background-color: #E8F0FE;\n",
              "      border: none;\n",
              "      border-radius: 50%;\n",
              "      cursor: pointer;\n",
              "      display: none;\n",
              "      fill: #1967D2;\n",
              "      height: 32px;\n",
              "      padding: 0 0 0 0;\n",
              "      width: 32px;\n",
              "    }\n",
              "\n",
              "    .colab-df-convert:hover {\n",
              "      background-color: #E2EBFA;\n",
              "      box-shadow: 0px 1px 2px rgba(60, 64, 67, 0.3), 0px 1px 3px 1px rgba(60, 64, 67, 0.15);\n",
              "      fill: #174EA6;\n",
              "    }\n",
              "\n",
              "    .colab-df-buttons div {\n",
              "      margin-bottom: 4px;\n",
              "    }\n",
              "\n",
              "    [theme=dark] .colab-df-convert {\n",
              "      background-color: #3B4455;\n",
              "      fill: #D2E3FC;\n",
              "    }\n",
              "\n",
              "    [theme=dark] .colab-df-convert:hover {\n",
              "      background-color: #434B5C;\n",
              "      box-shadow: 0px 1px 3px 1px rgba(0, 0, 0, 0.15);\n",
              "      filter: drop-shadow(0px 1px 2px rgba(0, 0, 0, 0.3));\n",
              "      fill: #FFFFFF;\n",
              "    }\n",
              "  </style>\n",
              "\n",
              "    <script>\n",
              "      const buttonEl =\n",
              "        document.querySelector('#df-13e8c9e2-a6c7-43a3-baee-58081cbd22f7 button.colab-df-convert');\n",
              "      buttonEl.style.display =\n",
              "        google.colab.kernel.accessAllowed ? 'block' : 'none';\n",
              "\n",
              "      async function convertToInteractive(key) {\n",
              "        const element = document.querySelector('#df-13e8c9e2-a6c7-43a3-baee-58081cbd22f7');\n",
              "        const dataTable =\n",
              "          await google.colab.kernel.invokeFunction('convertToInteractive',\n",
              "                                                    [key], {});\n",
              "        if (!dataTable) return;\n",
              "\n",
              "        const docLinkHtml = 'Like what you see? Visit the ' +\n",
              "          '<a target=\"_blank\" href=https://colab.research.google.com/notebooks/data_table.ipynb>data table notebook</a>'\n",
              "          + ' to learn more about interactive tables.';\n",
              "        element.innerHTML = '';\n",
              "        dataTable['output_type'] = 'display_data';\n",
              "        await google.colab.output.renderOutput(dataTable, element);\n",
              "        const docLink = document.createElement('div');\n",
              "        docLink.innerHTML = docLinkHtml;\n",
              "        element.appendChild(docLink);\n",
              "      }\n",
              "    </script>\n",
              "  </div>\n",
              "\n",
              "\n",
              "<div id=\"df-92bb05f7-373d-45ce-8cf4-e86d5cfe59d7\">\n",
              "  <button class=\"colab-df-quickchart\" onclick=\"quickchart('df-92bb05f7-373d-45ce-8cf4-e86d5cfe59d7')\"\n",
              "            title=\"Suggest charts\"\n",
              "            style=\"display:none;\">\n",
              "\n",
              "<svg xmlns=\"http://www.w3.org/2000/svg\" height=\"24px\"viewBox=\"0 0 24 24\"\n",
              "     width=\"24px\">\n",
              "    <g>\n",
              "        <path d=\"M19 3H5c-1.1 0-2 .9-2 2v14c0 1.1.9 2 2 2h14c1.1 0 2-.9 2-2V5c0-1.1-.9-2-2-2zM9 17H7v-7h2v7zm4 0h-2V7h2v10zm4 0h-2v-4h2v4z\"/>\n",
              "    </g>\n",
              "</svg>\n",
              "  </button>\n",
              "\n",
              "<style>\n",
              "  .colab-df-quickchart {\n",
              "      --bg-color: #E8F0FE;\n",
              "      --fill-color: #1967D2;\n",
              "      --hover-bg-color: #E2EBFA;\n",
              "      --hover-fill-color: #174EA6;\n",
              "      --disabled-fill-color: #AAA;\n",
              "      --disabled-bg-color: #DDD;\n",
              "  }\n",
              "\n",
              "  [theme=dark] .colab-df-quickchart {\n",
              "      --bg-color: #3B4455;\n",
              "      --fill-color: #D2E3FC;\n",
              "      --hover-bg-color: #434B5C;\n",
              "      --hover-fill-color: #FFFFFF;\n",
              "      --disabled-bg-color: #3B4455;\n",
              "      --disabled-fill-color: #666;\n",
              "  }\n",
              "\n",
              "  .colab-df-quickchart {\n",
              "    background-color: var(--bg-color);\n",
              "    border: none;\n",
              "    border-radius: 50%;\n",
              "    cursor: pointer;\n",
              "    display: none;\n",
              "    fill: var(--fill-color);\n",
              "    height: 32px;\n",
              "    padding: 0;\n",
              "    width: 32px;\n",
              "  }\n",
              "\n",
              "  .colab-df-quickchart:hover {\n",
              "    background-color: var(--hover-bg-color);\n",
              "    box-shadow: 0 1px 2px rgba(60, 64, 67, 0.3), 0 1px 3px 1px rgba(60, 64, 67, 0.15);\n",
              "    fill: var(--button-hover-fill-color);\n",
              "  }\n",
              "\n",
              "  .colab-df-quickchart-complete:disabled,\n",
              "  .colab-df-quickchart-complete:disabled:hover {\n",
              "    background-color: var(--disabled-bg-color);\n",
              "    fill: var(--disabled-fill-color);\n",
              "    box-shadow: none;\n",
              "  }\n",
              "\n",
              "  .colab-df-spinner {\n",
              "    border: 2px solid var(--fill-color);\n",
              "    border-color: transparent;\n",
              "    border-bottom-color: var(--fill-color);\n",
              "    animation:\n",
              "      spin 1s steps(1) infinite;\n",
              "  }\n",
              "\n",
              "  @keyframes spin {\n",
              "    0% {\n",
              "      border-color: transparent;\n",
              "      border-bottom-color: var(--fill-color);\n",
              "      border-left-color: var(--fill-color);\n",
              "    }\n",
              "    20% {\n",
              "      border-color: transparent;\n",
              "      border-left-color: var(--fill-color);\n",
              "      border-top-color: var(--fill-color);\n",
              "    }\n",
              "    30% {\n",
              "      border-color: transparent;\n",
              "      border-left-color: var(--fill-color);\n",
              "      border-top-color: var(--fill-color);\n",
              "      border-right-color: var(--fill-color);\n",
              "    }\n",
              "    40% {\n",
              "      border-color: transparent;\n",
              "      border-right-color: var(--fill-color);\n",
              "      border-top-color: var(--fill-color);\n",
              "    }\n",
              "    60% {\n",
              "      border-color: transparent;\n",
              "      border-right-color: var(--fill-color);\n",
              "    }\n",
              "    80% {\n",
              "      border-color: transparent;\n",
              "      border-right-color: var(--fill-color);\n",
              "      border-bottom-color: var(--fill-color);\n",
              "    }\n",
              "    90% {\n",
              "      border-color: transparent;\n",
              "      border-bottom-color: var(--fill-color);\n",
              "    }\n",
              "  }\n",
              "</style>\n",
              "\n",
              "  <script>\n",
              "    async function quickchart(key) {\n",
              "      const quickchartButtonEl =\n",
              "        document.querySelector('#' + key + ' button');\n",
              "      quickchartButtonEl.disabled = true;  // To prevent multiple clicks.\n",
              "      quickchartButtonEl.classList.add('colab-df-spinner');\n",
              "      try {\n",
              "        const charts = await google.colab.kernel.invokeFunction(\n",
              "            'suggestCharts', [key], {});\n",
              "      } catch (error) {\n",
              "        console.error('Error during call to suggestCharts:', error);\n",
              "      }\n",
              "      quickchartButtonEl.classList.remove('colab-df-spinner');\n",
              "      quickchartButtonEl.classList.add('colab-df-quickchart-complete');\n",
              "    }\n",
              "    (() => {\n",
              "      let quickchartButtonEl =\n",
              "        document.querySelector('#df-92bb05f7-373d-45ce-8cf4-e86d5cfe59d7 button');\n",
              "      quickchartButtonEl.style.display =\n",
              "        google.colab.kernel.accessAllowed ? 'block' : 'none';\n",
              "    })();\n",
              "  </script>\n",
              "</div>\n",
              "    </div>\n",
              "  </div>\n"
            ],
            "application/vnd.google.colaboratory.intrinsic+json": {
              "type": "dataframe",
              "summary": "{\n  \"name\": \"pd\",\n  \"rows\": 4,\n  \"fields\": [\n    {\n      \"column\": \"mean_test_score\",\n      \"properties\": {\n        \"dtype\": \"number\",\n        \"std\": 0.19923712773452582,\n        \"min\": 0.3450261597400794,\n        \"max\": 0.7825704668197211,\n        \"num_unique_values\": 4,\n        \"samples\": [\n          0.6977367986960618,\n          0.3450261597400794,\n          0.7825704668197211\n        ],\n        \"semantic_type\": \"\",\n        \"description\": \"\"\n      }\n    },\n    {\n      \"column\": \"mean_train_score\",\n      \"properties\": {\n        \"dtype\": \"number\",\n        \"std\": 0.19990374698351812,\n        \"min\": 0.34571462876966363,\n        \"max\": 0.7847862290275301,\n        \"num_unique_values\": 4,\n        \"samples\": [\n          0.6991747162558076,\n          0.34571462876966363,\n          0.7847862290275301\n        ],\n        \"semantic_type\": \"\",\n        \"description\": \"\"\n      }\n    },\n    {\n      \"column\": \"params\",\n      \"properties\": {\n        \"dtype\": \"object\",\n        \"semantic_type\": \"\",\n        \"description\": \"\"\n      }\n    }\n  ]\n}"
            }
          },
          "metadata": {},
          "execution_count": 82
        }
      ],
      "source": [
        "model = Pipeline([\n",
        "    (\"preprc\", StandardScaler()),\n",
        "    (\"linreg\", Lasso())\n",
        "])\n",
        "grid = {\n",
        "    \"linreg__alpha\": [0.1, 1, 3, 5]\n",
        "}\n",
        "gs = GridSearchCV(model, param_grid=grid, cv=5, return_train_score=True, error_score='raise')\n",
        "gs.fit(X_train, y_train)\n",
        "sel = [\"mean_test_score\", \"mean_train_score\", \"params\"]\n",
        "pd.DataFrame(gs.cv_results_).sort_values(\"mean_test_score\", ascending=False)[sel]"
      ]
    },
    {
      "cell_type": "markdown",
      "metadata": {
        "id": "_KOI5z3F9i4P"
      },
      "source": [
        "Scelgo il parametro più piccolo in quanto è possibile notare che l'accuratezza peggiora con una regolarizzazione più forte e addestro un modello con lo scopo di individuare le feature più rilevanti."
      ]
    },
    {
      "cell_type": "code",
      "execution_count": 83,
      "metadata": {
        "colab": {
          "base_uri": "https://localhost:8080/",
          "height": 125
        },
        "id": "3OTu-3fi9eAM",
        "outputId": "bfb4a3e2-50fb-446a-f40c-7610a3053cad"
      },
      "outputs": [
        {
          "output_type": "execute_result",
          "data": {
            "text/plain": [
              "Pipeline(steps=[('preproc', StandardScaler()), ('regr', Lasso(alpha=0.1))])"
            ],
            "text/html": [
              "<style>#sk-container-id-2 {color: black;background-color: white;}#sk-container-id-2 pre{padding: 0;}#sk-container-id-2 div.sk-toggleable {background-color: white;}#sk-container-id-2 label.sk-toggleable__label {cursor: pointer;display: block;width: 100%;margin-bottom: 0;padding: 0.3em;box-sizing: border-box;text-align: center;}#sk-container-id-2 label.sk-toggleable__label-arrow:before {content: \"▸\";float: left;margin-right: 0.25em;color: #696969;}#sk-container-id-2 label.sk-toggleable__label-arrow:hover:before {color: black;}#sk-container-id-2 div.sk-estimator:hover label.sk-toggleable__label-arrow:before {color: black;}#sk-container-id-2 div.sk-toggleable__content {max-height: 0;max-width: 0;overflow: hidden;text-align: left;background-color: #f0f8ff;}#sk-container-id-2 div.sk-toggleable__content pre {margin: 0.2em;color: black;border-radius: 0.25em;background-color: #f0f8ff;}#sk-container-id-2 input.sk-toggleable__control:checked~div.sk-toggleable__content {max-height: 200px;max-width: 100%;overflow: auto;}#sk-container-id-2 input.sk-toggleable__control:checked~label.sk-toggleable__label-arrow:before {content: \"▾\";}#sk-container-id-2 div.sk-estimator input.sk-toggleable__control:checked~label.sk-toggleable__label {background-color: #d4ebff;}#sk-container-id-2 div.sk-label input.sk-toggleable__control:checked~label.sk-toggleable__label {background-color: #d4ebff;}#sk-container-id-2 input.sk-hidden--visually {border: 0;clip: rect(1px 1px 1px 1px);clip: rect(1px, 1px, 1px, 1px);height: 1px;margin: -1px;overflow: hidden;padding: 0;position: absolute;width: 1px;}#sk-container-id-2 div.sk-estimator {font-family: monospace;background-color: #f0f8ff;border: 1px dotted black;border-radius: 0.25em;box-sizing: border-box;margin-bottom: 0.5em;}#sk-container-id-2 div.sk-estimator:hover {background-color: #d4ebff;}#sk-container-id-2 div.sk-parallel-item::after {content: \"\";width: 100%;border-bottom: 1px solid gray;flex-grow: 1;}#sk-container-id-2 div.sk-label:hover label.sk-toggleable__label {background-color: #d4ebff;}#sk-container-id-2 div.sk-serial::before {content: \"\";position: absolute;border-left: 1px solid gray;box-sizing: border-box;top: 0;bottom: 0;left: 50%;z-index: 0;}#sk-container-id-2 div.sk-serial {display: flex;flex-direction: column;align-items: center;background-color: white;padding-right: 0.2em;padding-left: 0.2em;position: relative;}#sk-container-id-2 div.sk-item {position: relative;z-index: 1;}#sk-container-id-2 div.sk-parallel {display: flex;align-items: stretch;justify-content: center;background-color: white;position: relative;}#sk-container-id-2 div.sk-item::before, #sk-container-id-2 div.sk-parallel-item::before {content: \"\";position: absolute;border-left: 1px solid gray;box-sizing: border-box;top: 0;bottom: 0;left: 50%;z-index: -1;}#sk-container-id-2 div.sk-parallel-item {display: flex;flex-direction: column;z-index: 1;position: relative;background-color: white;}#sk-container-id-2 div.sk-parallel-item:first-child::after {align-self: flex-end;width: 50%;}#sk-container-id-2 div.sk-parallel-item:last-child::after {align-self: flex-start;width: 50%;}#sk-container-id-2 div.sk-parallel-item:only-child::after {width: 0;}#sk-container-id-2 div.sk-dashed-wrapped {border: 1px dashed gray;margin: 0 0.4em 0.5em 0.4em;box-sizing: border-box;padding-bottom: 0.4em;background-color: white;}#sk-container-id-2 div.sk-label label {font-family: monospace;font-weight: bold;display: inline-block;line-height: 1.2em;}#sk-container-id-2 div.sk-label-container {text-align: center;}#sk-container-id-2 div.sk-container {/* jupyter's `normalize.less` sets `[hidden] { display: none; }` but bootstrap.min.css set `[hidden] { display: none !important; }` so we also need the `!important` here to be able to override the default hidden behavior on the sphinx rendered scikit-learn.org. See: https://github.com/scikit-learn/scikit-learn/issues/21755 */display: inline-block !important;position: relative;}#sk-container-id-2 div.sk-text-repr-fallback {display: none;}</style><div id=\"sk-container-id-2\" class=\"sk-top-container\"><div class=\"sk-text-repr-fallback\"><pre>Pipeline(steps=[(&#x27;preproc&#x27;, StandardScaler()), (&#x27;regr&#x27;, Lasso(alpha=0.1))])</pre><b>In a Jupyter environment, please rerun this cell to show the HTML representation or trust the notebook. <br />On GitHub, the HTML representation is unable to render, please try loading this page with nbviewer.org.</b></div><div class=\"sk-container\" hidden><div class=\"sk-item sk-dashed-wrapped\"><div class=\"sk-label-container\"><div class=\"sk-label sk-toggleable\"><input class=\"sk-toggleable__control sk-hidden--visually\" id=\"sk-estimator-id-4\" type=\"checkbox\" ><label for=\"sk-estimator-id-4\" class=\"sk-toggleable__label sk-toggleable__label-arrow\">Pipeline</label><div class=\"sk-toggleable__content\"><pre>Pipeline(steps=[(&#x27;preproc&#x27;, StandardScaler()), (&#x27;regr&#x27;, Lasso(alpha=0.1))])</pre></div></div></div><div class=\"sk-serial\"><div class=\"sk-item\"><div class=\"sk-estimator sk-toggleable\"><input class=\"sk-toggleable__control sk-hidden--visually\" id=\"sk-estimator-id-5\" type=\"checkbox\" ><label for=\"sk-estimator-id-5\" class=\"sk-toggleable__label sk-toggleable__label-arrow\">StandardScaler</label><div class=\"sk-toggleable__content\"><pre>StandardScaler()</pre></div></div></div><div class=\"sk-item\"><div class=\"sk-estimator sk-toggleable\"><input class=\"sk-toggleable__control sk-hidden--visually\" id=\"sk-estimator-id-6\" type=\"checkbox\" ><label for=\"sk-estimator-id-6\" class=\"sk-toggleable__label sk-toggleable__label-arrow\">Lasso</label><div class=\"sk-toggleable__content\"><pre>Lasso(alpha=0.1)</pre></div></div></div></div></div></div></div>"
            ]
          },
          "metadata": {},
          "execution_count": 83
        }
      ],
      "source": [
        "model = Pipeline([\n",
        "    (\"preproc\", StandardScaler()),\n",
        "    (\"regr\", Lasso(alpha=0.1))\n",
        "])\n",
        "model.fit(X_train, y_train)"
      ]
    },
    {
      "cell_type": "code",
      "execution_count": 84,
      "metadata": {
        "colab": {
          "base_uri": "https://localhost:8080/"
        },
        "id": "HhV9lYcFAkXg",
        "outputId": "19f18f58-4b2d-49ec-c8e8-9fed4f85b804"
      },
      "outputs": [
        {
          "output_type": "stream",
          "name": "stdout",
          "text": [
            "Features totali: 60\n",
            "Features estratte: 18\n"
          ]
        },
        {
          "output_type": "execute_result",
          "data": {
            "text/plain": [
              "t1                         2.873786\n",
              "is_rush_hour               5.737213\n",
              "weather_code_few_clouds    0.273999\n",
              "month_June                 0.081402\n",
              "month_May                  0.051337\n",
              "month_Oct                  0.323494\n",
              "hour_8                     1.852385\n",
              "hour_10                    0.840339\n",
              "hour_11                    0.853722\n",
              "hour_12                    1.559932\n",
              "hour_13                    1.624038\n",
              "hour_14                    1.461061\n",
              "hour_15                    1.742783\n",
              "hour_16                    0.028904\n",
              "hour_17                    1.930965\n",
              "hour_18                    1.661258\n",
              "hour_20                    0.740899\n",
              "weekday_Thu                0.027237\n",
              "dtype: float64"
            ]
          },
          "metadata": {},
          "execution_count": 84
        }
      ],
      "source": [
        "lasso = pd.Series(model.named_steps[\"regr\"].coef_, X_train.columns)\n",
        "c = len(lasso[lasso>0])\n",
        "print(\"Features totali: \"+ str(len(X_train.columns)))\n",
        "print(\"Features estratte: \"+ str(c))\n",
        "lasso[lasso>0]"
      ]
    },
    {
      "cell_type": "markdown",
      "metadata": {
        "id": "VclLpu-0-KUd"
      },
      "source": [
        "Vediamo che sono state selezionate un sottoinsieme delle caratteristiche del modello ovvero le caratteristiche che la regolarizzazione Lasso ha individuato come più importanti e informative per predire la variabile dipendente. Come già notato durante l'analisi esplorativa, temperatura e orario di punta rappresentano le feature che contribuiscono maggiormente nella previsione del modello."
      ]
    },
    {
      "cell_type": "markdown",
      "metadata": {
        "id": "OgM6MgP2_t-G"
      },
      "source": [
        "Proviamo a vedere se è possibile migliorare la precisione selezionando solo le feature più importanti individuate dalla Lasso e applicando un filtro polinomiale prima di applicare la regressione. Applichiamo la regressione ridge perché lavorando con feature polinomiali la regolarizzazione diventa di solito importante per bilanciare l'effetto dell'esplosione delle variabili."
      ]
    },
    {
      "cell_type": "code",
      "execution_count": 85,
      "metadata": {
        "colab": {
          "base_uri": "https://localhost:8080/",
          "height": 130
        },
        "id": "g_lJ1SppVFmk",
        "outputId": "b18f265d-ffbe-473f-9952-bec7bbe10198"
      },
      "outputs": [
        {
          "output_type": "execute_result",
          "data": {
            "text/plain": [
              "    t1  humidity  wind_speed  is_holiday  is_weekend  is_rush_hour  \\\n",
              "0  3.0      93.0         6.0       False        True         False   \n",
              "\n",
              "   weather_code_cloudy  weather_code_few_clouds  weather_code_rain  \\\n",
              "0                False                    False              False   \n",
              "\n",
              "   weather_code_storm  ...  hour_17  hour_18  hour_19  hour_20  hour_22  \\\n",
              "0               False  ...    False    False    False    False    False   \n",
              "\n",
              "   hour_23  weekday_Mon  weekday_Sun  weekday_Thu  num_bikes  \n",
              "0    False        False         True        False  13.490738  \n",
              "\n",
              "[1 rows x 42 columns]"
            ],
            "text/html": [
              "\n",
              "  <div id=\"df-18a3bec8-1c63-4ebe-b6c6-065586458128\" class=\"colab-df-container\">\n",
              "    <div>\n",
              "<style scoped>\n",
              "    .dataframe tbody tr th:only-of-type {\n",
              "        vertical-align: middle;\n",
              "    }\n",
              "\n",
              "    .dataframe tbody tr th {\n",
              "        vertical-align: top;\n",
              "    }\n",
              "\n",
              "    .dataframe thead th {\n",
              "        text-align: right;\n",
              "    }\n",
              "</style>\n",
              "<table border=\"1\" class=\"dataframe\">\n",
              "  <thead>\n",
              "    <tr style=\"text-align: right;\">\n",
              "      <th></th>\n",
              "      <th>t1</th>\n",
              "      <th>humidity</th>\n",
              "      <th>wind_speed</th>\n",
              "      <th>is_holiday</th>\n",
              "      <th>is_weekend</th>\n",
              "      <th>is_rush_hour</th>\n",
              "      <th>weather_code_cloudy</th>\n",
              "      <th>weather_code_few_clouds</th>\n",
              "      <th>weather_code_rain</th>\n",
              "      <th>weather_code_storm</th>\n",
              "      <th>...</th>\n",
              "      <th>hour_17</th>\n",
              "      <th>hour_18</th>\n",
              "      <th>hour_19</th>\n",
              "      <th>hour_20</th>\n",
              "      <th>hour_22</th>\n",
              "      <th>hour_23</th>\n",
              "      <th>weekday_Mon</th>\n",
              "      <th>weekday_Sun</th>\n",
              "      <th>weekday_Thu</th>\n",
              "      <th>num_bikes</th>\n",
              "    </tr>\n",
              "  </thead>\n",
              "  <tbody>\n",
              "    <tr>\n",
              "      <th>0</th>\n",
              "      <td>3.0</td>\n",
              "      <td>93.0</td>\n",
              "      <td>6.0</td>\n",
              "      <td>False</td>\n",
              "      <td>True</td>\n",
              "      <td>False</td>\n",
              "      <td>False</td>\n",
              "      <td>False</td>\n",
              "      <td>False</td>\n",
              "      <td>False</td>\n",
              "      <td>...</td>\n",
              "      <td>False</td>\n",
              "      <td>False</td>\n",
              "      <td>False</td>\n",
              "      <td>False</td>\n",
              "      <td>False</td>\n",
              "      <td>False</td>\n",
              "      <td>False</td>\n",
              "      <td>True</td>\n",
              "      <td>False</td>\n",
              "      <td>13.490738</td>\n",
              "    </tr>\n",
              "  </tbody>\n",
              "</table>\n",
              "<p>1 rows × 42 columns</p>\n",
              "</div>\n",
              "    <div class=\"colab-df-buttons\">\n",
              "\n",
              "  <div class=\"colab-df-container\">\n",
              "    <button class=\"colab-df-convert\" onclick=\"convertToInteractive('df-18a3bec8-1c63-4ebe-b6c6-065586458128')\"\n",
              "            title=\"Convert this dataframe to an interactive table.\"\n",
              "            style=\"display:none;\">\n",
              "\n",
              "  <svg xmlns=\"http://www.w3.org/2000/svg\" height=\"24px\" viewBox=\"0 -960 960 960\">\n",
              "    <path d=\"M120-120v-720h720v720H120Zm60-500h600v-160H180v160Zm220 220h160v-160H400v160Zm0 220h160v-160H400v160ZM180-400h160v-160H180v160Zm440 0h160v-160H620v160ZM180-180h160v-160H180v160Zm440 0h160v-160H620v160Z\"/>\n",
              "  </svg>\n",
              "    </button>\n",
              "\n",
              "  <style>\n",
              "    .colab-df-container {\n",
              "      display:flex;\n",
              "      gap: 12px;\n",
              "    }\n",
              "\n",
              "    .colab-df-convert {\n",
              "      background-color: #E8F0FE;\n",
              "      border: none;\n",
              "      border-radius: 50%;\n",
              "      cursor: pointer;\n",
              "      display: none;\n",
              "      fill: #1967D2;\n",
              "      height: 32px;\n",
              "      padding: 0 0 0 0;\n",
              "      width: 32px;\n",
              "    }\n",
              "\n",
              "    .colab-df-convert:hover {\n",
              "      background-color: #E2EBFA;\n",
              "      box-shadow: 0px 1px 2px rgba(60, 64, 67, 0.3), 0px 1px 3px 1px rgba(60, 64, 67, 0.15);\n",
              "      fill: #174EA6;\n",
              "    }\n",
              "\n",
              "    .colab-df-buttons div {\n",
              "      margin-bottom: 4px;\n",
              "    }\n",
              "\n",
              "    [theme=dark] .colab-df-convert {\n",
              "      background-color: #3B4455;\n",
              "      fill: #D2E3FC;\n",
              "    }\n",
              "\n",
              "    [theme=dark] .colab-df-convert:hover {\n",
              "      background-color: #434B5C;\n",
              "      box-shadow: 0px 1px 3px 1px rgba(0, 0, 0, 0.15);\n",
              "      filter: drop-shadow(0px 1px 2px rgba(0, 0, 0, 0.3));\n",
              "      fill: #FFFFFF;\n",
              "    }\n",
              "  </style>\n",
              "\n",
              "    <script>\n",
              "      const buttonEl =\n",
              "        document.querySelector('#df-18a3bec8-1c63-4ebe-b6c6-065586458128 button.colab-df-convert');\n",
              "      buttonEl.style.display =\n",
              "        google.colab.kernel.accessAllowed ? 'block' : 'none';\n",
              "\n",
              "      async function convertToInteractive(key) {\n",
              "        const element = document.querySelector('#df-18a3bec8-1c63-4ebe-b6c6-065586458128');\n",
              "        const dataTable =\n",
              "          await google.colab.kernel.invokeFunction('convertToInteractive',\n",
              "                                                    [key], {});\n",
              "        if (!dataTable) return;\n",
              "\n",
              "        const docLinkHtml = 'Like what you see? Visit the ' +\n",
              "          '<a target=\"_blank\" href=https://colab.research.google.com/notebooks/data_table.ipynb>data table notebook</a>'\n",
              "          + ' to learn more about interactive tables.';\n",
              "        element.innerHTML = '';\n",
              "        dataTable['output_type'] = 'display_data';\n",
              "        await google.colab.output.renderOutput(dataTable, element);\n",
              "        const docLink = document.createElement('div');\n",
              "        docLink.innerHTML = docLinkHtml;\n",
              "        element.appendChild(docLink);\n",
              "      }\n",
              "    </script>\n",
              "  </div>\n",
              "\n",
              "    </div>\n",
              "  </div>\n"
            ],
            "application/vnd.google.colaboratory.intrinsic+json": {
              "type": "dataframe",
              "variable_name": "bike_lasso"
            }
          },
          "metadata": {},
          "execution_count": 85
        }
      ],
      "source": [
        "keep = lasso[lasso!=0].index.tolist()\n",
        "bike_lasso = bike[keep+[\"num_bikes\"]]\n",
        "bike_lasso.head(1)"
      ]
    },
    {
      "cell_type": "code",
      "source": [
        "X = bike_lasso.drop(columns=\"num_bikes\")\n",
        "y = bike_lasso[\"num_bikes\"]\n",
        "X_train, X_val, y_train, y_val = train_test_split(X, y, test_size=1/3, random_state=42)"
      ],
      "metadata": {
        "id": "HYvvDPkC2V8e"
      },
      "execution_count": 86,
      "outputs": []
    },
    {
      "cell_type": "markdown",
      "metadata": {
        "id": "bE7qZwDYACiA"
      },
      "source": [
        "###Regressione Ridge\n",
        "Testiamo ora il modello di regressione Ridge per valutare le performance di un modello di regressione lineare applicando però una regolarizzazione per evitare che i coefficienti crescano troppo. Applico inoltre la standardizzazione delle feature che permette, in presenza di variabile con scale diverse, di uniformarne i valori e migliorare l'accuratezza del modello."
      ]
    },
    {
      "cell_type": "code",
      "execution_count": 87,
      "metadata": {
        "colab": {
          "base_uri": "https://localhost:8080/",
          "height": 175
        },
        "id": "kskEfejXACBH",
        "outputId": "1877ea86-43b7-4b60-fc0b-f27bb1f67ff3"
      },
      "outputs": [
        {
          "output_type": "execute_result",
          "data": {
            "text/plain": [
              "   mean_test_score  mean_train_score                  params\n",
              "3         0.784238          0.786382   {'linreg__alpha': 10}\n",
              "2         0.784238          0.786383    {'linreg__alpha': 5}\n",
              "1         0.784237          0.786383    {'linreg__alpha': 1}\n",
              "0         0.784236          0.786383  {'linreg__alpha': 0.1}"
            ],
            "text/html": [
              "\n",
              "  <div id=\"df-f129ea01-5b8a-406d-8aa7-4b9379a81912\" class=\"colab-df-container\">\n",
              "    <div>\n",
              "<style scoped>\n",
              "    .dataframe tbody tr th:only-of-type {\n",
              "        vertical-align: middle;\n",
              "    }\n",
              "\n",
              "    .dataframe tbody tr th {\n",
              "        vertical-align: top;\n",
              "    }\n",
              "\n",
              "    .dataframe thead th {\n",
              "        text-align: right;\n",
              "    }\n",
              "</style>\n",
              "<table border=\"1\" class=\"dataframe\">\n",
              "  <thead>\n",
              "    <tr style=\"text-align: right;\">\n",
              "      <th></th>\n",
              "      <th>mean_test_score</th>\n",
              "      <th>mean_train_score</th>\n",
              "      <th>params</th>\n",
              "    </tr>\n",
              "  </thead>\n",
              "  <tbody>\n",
              "    <tr>\n",
              "      <th>3</th>\n",
              "      <td>0.784238</td>\n",
              "      <td>0.786382</td>\n",
              "      <td>{'linreg__alpha': 10}</td>\n",
              "    </tr>\n",
              "    <tr>\n",
              "      <th>2</th>\n",
              "      <td>0.784238</td>\n",
              "      <td>0.786383</td>\n",
              "      <td>{'linreg__alpha': 5}</td>\n",
              "    </tr>\n",
              "    <tr>\n",
              "      <th>1</th>\n",
              "      <td>0.784237</td>\n",
              "      <td>0.786383</td>\n",
              "      <td>{'linreg__alpha': 1}</td>\n",
              "    </tr>\n",
              "    <tr>\n",
              "      <th>0</th>\n",
              "      <td>0.784236</td>\n",
              "      <td>0.786383</td>\n",
              "      <td>{'linreg__alpha': 0.1}</td>\n",
              "    </tr>\n",
              "  </tbody>\n",
              "</table>\n",
              "</div>\n",
              "    <div class=\"colab-df-buttons\">\n",
              "\n",
              "  <div class=\"colab-df-container\">\n",
              "    <button class=\"colab-df-convert\" onclick=\"convertToInteractive('df-f129ea01-5b8a-406d-8aa7-4b9379a81912')\"\n",
              "            title=\"Convert this dataframe to an interactive table.\"\n",
              "            style=\"display:none;\">\n",
              "\n",
              "  <svg xmlns=\"http://www.w3.org/2000/svg\" height=\"24px\" viewBox=\"0 -960 960 960\">\n",
              "    <path d=\"M120-120v-720h720v720H120Zm60-500h600v-160H180v160Zm220 220h160v-160H400v160Zm0 220h160v-160H400v160ZM180-400h160v-160H180v160Zm440 0h160v-160H620v160ZM180-180h160v-160H180v160Zm440 0h160v-160H620v160Z\"/>\n",
              "  </svg>\n",
              "    </button>\n",
              "\n",
              "  <style>\n",
              "    .colab-df-container {\n",
              "      display:flex;\n",
              "      gap: 12px;\n",
              "    }\n",
              "\n",
              "    .colab-df-convert {\n",
              "      background-color: #E8F0FE;\n",
              "      border: none;\n",
              "      border-radius: 50%;\n",
              "      cursor: pointer;\n",
              "      display: none;\n",
              "      fill: #1967D2;\n",
              "      height: 32px;\n",
              "      padding: 0 0 0 0;\n",
              "      width: 32px;\n",
              "    }\n",
              "\n",
              "    .colab-df-convert:hover {\n",
              "      background-color: #E2EBFA;\n",
              "      box-shadow: 0px 1px 2px rgba(60, 64, 67, 0.3), 0px 1px 3px 1px rgba(60, 64, 67, 0.15);\n",
              "      fill: #174EA6;\n",
              "    }\n",
              "\n",
              "    .colab-df-buttons div {\n",
              "      margin-bottom: 4px;\n",
              "    }\n",
              "\n",
              "    [theme=dark] .colab-df-convert {\n",
              "      background-color: #3B4455;\n",
              "      fill: #D2E3FC;\n",
              "    }\n",
              "\n",
              "    [theme=dark] .colab-df-convert:hover {\n",
              "      background-color: #434B5C;\n",
              "      box-shadow: 0px 1px 3px 1px rgba(0, 0, 0, 0.15);\n",
              "      filter: drop-shadow(0px 1px 2px rgba(0, 0, 0, 0.3));\n",
              "      fill: #FFFFFF;\n",
              "    }\n",
              "  </style>\n",
              "\n",
              "    <script>\n",
              "      const buttonEl =\n",
              "        document.querySelector('#df-f129ea01-5b8a-406d-8aa7-4b9379a81912 button.colab-df-convert');\n",
              "      buttonEl.style.display =\n",
              "        google.colab.kernel.accessAllowed ? 'block' : 'none';\n",
              "\n",
              "      async function convertToInteractive(key) {\n",
              "        const element = document.querySelector('#df-f129ea01-5b8a-406d-8aa7-4b9379a81912');\n",
              "        const dataTable =\n",
              "          await google.colab.kernel.invokeFunction('convertToInteractive',\n",
              "                                                    [key], {});\n",
              "        if (!dataTable) return;\n",
              "\n",
              "        const docLinkHtml = 'Like what you see? Visit the ' +\n",
              "          '<a target=\"_blank\" href=https://colab.research.google.com/notebooks/data_table.ipynb>data table notebook</a>'\n",
              "          + ' to learn more about interactive tables.';\n",
              "        element.innerHTML = '';\n",
              "        dataTable['output_type'] = 'display_data';\n",
              "        await google.colab.output.renderOutput(dataTable, element);\n",
              "        const docLink = document.createElement('div');\n",
              "        docLink.innerHTML = docLinkHtml;\n",
              "        element.appendChild(docLink);\n",
              "      }\n",
              "    </script>\n",
              "  </div>\n",
              "\n",
              "\n",
              "<div id=\"df-7d2cc5cf-31a4-4f07-b1f7-30370cedbc09\">\n",
              "  <button class=\"colab-df-quickchart\" onclick=\"quickchart('df-7d2cc5cf-31a4-4f07-b1f7-30370cedbc09')\"\n",
              "            title=\"Suggest charts\"\n",
              "            style=\"display:none;\">\n",
              "\n",
              "<svg xmlns=\"http://www.w3.org/2000/svg\" height=\"24px\"viewBox=\"0 0 24 24\"\n",
              "     width=\"24px\">\n",
              "    <g>\n",
              "        <path d=\"M19 3H5c-1.1 0-2 .9-2 2v14c0 1.1.9 2 2 2h14c1.1 0 2-.9 2-2V5c0-1.1-.9-2-2-2zM9 17H7v-7h2v7zm4 0h-2V7h2v10zm4 0h-2v-4h2v4z\"/>\n",
              "    </g>\n",
              "</svg>\n",
              "  </button>\n",
              "\n",
              "<style>\n",
              "  .colab-df-quickchart {\n",
              "      --bg-color: #E8F0FE;\n",
              "      --fill-color: #1967D2;\n",
              "      --hover-bg-color: #E2EBFA;\n",
              "      --hover-fill-color: #174EA6;\n",
              "      --disabled-fill-color: #AAA;\n",
              "      --disabled-bg-color: #DDD;\n",
              "  }\n",
              "\n",
              "  [theme=dark] .colab-df-quickchart {\n",
              "      --bg-color: #3B4455;\n",
              "      --fill-color: #D2E3FC;\n",
              "      --hover-bg-color: #434B5C;\n",
              "      --hover-fill-color: #FFFFFF;\n",
              "      --disabled-bg-color: #3B4455;\n",
              "      --disabled-fill-color: #666;\n",
              "  }\n",
              "\n",
              "  .colab-df-quickchart {\n",
              "    background-color: var(--bg-color);\n",
              "    border: none;\n",
              "    border-radius: 50%;\n",
              "    cursor: pointer;\n",
              "    display: none;\n",
              "    fill: var(--fill-color);\n",
              "    height: 32px;\n",
              "    padding: 0;\n",
              "    width: 32px;\n",
              "  }\n",
              "\n",
              "  .colab-df-quickchart:hover {\n",
              "    background-color: var(--hover-bg-color);\n",
              "    box-shadow: 0 1px 2px rgba(60, 64, 67, 0.3), 0 1px 3px 1px rgba(60, 64, 67, 0.15);\n",
              "    fill: var(--button-hover-fill-color);\n",
              "  }\n",
              "\n",
              "  .colab-df-quickchart-complete:disabled,\n",
              "  .colab-df-quickchart-complete:disabled:hover {\n",
              "    background-color: var(--disabled-bg-color);\n",
              "    fill: var(--disabled-fill-color);\n",
              "    box-shadow: none;\n",
              "  }\n",
              "\n",
              "  .colab-df-spinner {\n",
              "    border: 2px solid var(--fill-color);\n",
              "    border-color: transparent;\n",
              "    border-bottom-color: var(--fill-color);\n",
              "    animation:\n",
              "      spin 1s steps(1) infinite;\n",
              "  }\n",
              "\n",
              "  @keyframes spin {\n",
              "    0% {\n",
              "      border-color: transparent;\n",
              "      border-bottom-color: var(--fill-color);\n",
              "      border-left-color: var(--fill-color);\n",
              "    }\n",
              "    20% {\n",
              "      border-color: transparent;\n",
              "      border-left-color: var(--fill-color);\n",
              "      border-top-color: var(--fill-color);\n",
              "    }\n",
              "    30% {\n",
              "      border-color: transparent;\n",
              "      border-left-color: var(--fill-color);\n",
              "      border-top-color: var(--fill-color);\n",
              "      border-right-color: var(--fill-color);\n",
              "    }\n",
              "    40% {\n",
              "      border-color: transparent;\n",
              "      border-right-color: var(--fill-color);\n",
              "      border-top-color: var(--fill-color);\n",
              "    }\n",
              "    60% {\n",
              "      border-color: transparent;\n",
              "      border-right-color: var(--fill-color);\n",
              "    }\n",
              "    80% {\n",
              "      border-color: transparent;\n",
              "      border-right-color: var(--fill-color);\n",
              "      border-bottom-color: var(--fill-color);\n",
              "    }\n",
              "    90% {\n",
              "      border-color: transparent;\n",
              "      border-bottom-color: var(--fill-color);\n",
              "    }\n",
              "  }\n",
              "</style>\n",
              "\n",
              "  <script>\n",
              "    async function quickchart(key) {\n",
              "      const quickchartButtonEl =\n",
              "        document.querySelector('#' + key + ' button');\n",
              "      quickchartButtonEl.disabled = true;  // To prevent multiple clicks.\n",
              "      quickchartButtonEl.classList.add('colab-df-spinner');\n",
              "      try {\n",
              "        const charts = await google.colab.kernel.invokeFunction(\n",
              "            'suggestCharts', [key], {});\n",
              "      } catch (error) {\n",
              "        console.error('Error during call to suggestCharts:', error);\n",
              "      }\n",
              "      quickchartButtonEl.classList.remove('colab-df-spinner');\n",
              "      quickchartButtonEl.classList.add('colab-df-quickchart-complete');\n",
              "    }\n",
              "    (() => {\n",
              "      let quickchartButtonEl =\n",
              "        document.querySelector('#df-7d2cc5cf-31a4-4f07-b1f7-30370cedbc09 button');\n",
              "      quickchartButtonEl.style.display =\n",
              "        google.colab.kernel.accessAllowed ? 'block' : 'none';\n",
              "    })();\n",
              "  </script>\n",
              "</div>\n",
              "    </div>\n",
              "  </div>\n"
            ],
            "application/vnd.google.colaboratory.intrinsic+json": {
              "type": "dataframe",
              "summary": "{\n  \"name\": \"pd\",\n  \"rows\": 4,\n  \"fields\": [\n    {\n      \"column\": \"mean_test_score\",\n      \"properties\": {\n        \"dtype\": \"number\",\n        \"std\": 1.0295100610354193e-06,\n        \"min\": 0.7842362391381812,\n        \"max\": 0.7842384865777545,\n        \"num_unique_values\": 4,\n        \"samples\": [\n          0.7842375579330503,\n          0.7842362391381812,\n          0.7842384865777545\n        ],\n        \"semantic_type\": \"\",\n        \"description\": \"\"\n      }\n    },\n    {\n      \"column\": \"mean_train_score\",\n      \"properties\": {\n        \"dtype\": \"number\",\n        \"std\": 3.928585356668806e-07,\n        \"min\": 0.7863824866114291,\n        \"max\": 0.7863833208147446,\n        \"num_unique_values\": 4,\n        \"samples\": [\n          0.7863831102903026,\n          0.7863833208147446,\n          0.7863824866114291\n        ],\n        \"semantic_type\": \"\",\n        \"description\": \"\"\n      }\n    },\n    {\n      \"column\": \"params\",\n      \"properties\": {\n        \"dtype\": \"object\",\n        \"semantic_type\": \"\",\n        \"description\": \"\"\n      }\n    }\n  ]\n}"
            }
          },
          "metadata": {},
          "execution_count": 87
        }
      ],
      "source": [
        "from sklearn.linear_model import Ridge\n",
        "model = Pipeline([\n",
        "    (\"scale\",  StandardScaler()),\n",
        "    (\"linreg\", Ridge())\n",
        "])\n",
        "grid = {\n",
        "    \"linreg__alpha\": [0.1, 1, 5, 10]\n",
        "    }\n",
        "gs = GridSearchCV(model, param_grid=grid, return_train_score=True, cv=5)\n",
        "gs.fit(X_train, y_train)\n",
        "sel = [\"mean_test_score\", \"mean_train_score\", \"params\"]\n",
        "pd.DataFrame(gs.cv_results_).sort_values(\"mean_test_score\", ascending=False)[sel]"
      ]
    },
    {
      "cell_type": "markdown",
      "metadata": {
        "id": "4yYDgDY5EJYo"
      },
      "source": [
        "Possiamo vedere che il valore di alpha, che rappresenta il peso della regolarizzazione, non modifica particolarmente i risultati ottenuti. Siccome la regolarizzazione non sembra influire in modo significativo sul risultato, proviamo ad addestrare un semplice modello di regressione lineare per confrontarne l'accuratezza."
      ]
    },
    {
      "cell_type": "code",
      "execution_count": 88,
      "metadata": {
        "colab": {
          "base_uri": "https://localhost:8080/"
        },
        "id": "OCh0n7jSFMju",
        "outputId": "da7fe7a6-fc01-40ed-c29d-35f2df677553"
      },
      "outputs": [
        {
          "output_type": "execute_result",
          "data": {
            "text/plain": [
              "0.7981842939693613"
            ]
          },
          "metadata": {},
          "execution_count": 88
        }
      ],
      "source": [
        "from sklearn.linear_model import LinearRegression\n",
        "from sklearn.model_selection import KFold\n",
        "from sklearn.model_selection import cross_val_score\n",
        "\n",
        "model = Pipeline([\n",
        "    (\"scale\",  StandardScaler(with_mean=False)),\n",
        "    (\"linreg\", LinearRegression())\n",
        "])\n",
        "model.fit(X_train, y_train)\n",
        "model.score(X_val, y_val)"
      ]
    },
    {
      "cell_type": "markdown",
      "metadata": {
        "id": "HCFgn-MEFROK"
      },
      "source": [
        "Possiamo notare infatti che l'accuratezza è di fatto uguale a quella della regressione Ridge."
      ]
    },
    {
      "cell_type": "markdown",
      "source": [
        "###Regressione con funzioni Kernel\n",
        "Testiamo ora il modello di regressione con funzione kernel polinomiale.La regressione con funzione kernel polinomiale permette di ottenere modelli non lineari mappando i dati originali in un nuovo spazio ad elevata dimensionalità senza dover creare le relative nuove variabili."
      ],
      "metadata": {
        "id": "OJvqWb3t3EfE"
      }
    },
    {
      "cell_type": "code",
      "source": [
        "model = Pipeline([\n",
        "    (\"scale\", StandardScaler()),\n",
        "    (\"regr\", KernelRidge(kernel=\"poly\"))\n",
        "])\n",
        "grid = {\n",
        "    \"regr__degree\": range(2,3),\n",
        "    \"regr__alpha\": [0.01, 0.1, 1, 10],\n",
        "}\n",
        "gs = GridSearchCV(model, grid, cv=5, return_train_score=True)\n",
        "gs.fit(X_train, y_train)\n",
        "pd.DataFrame(gs.cv_results_).sort_values(\"mean_test_score\", ascending=False)[sel]"
      ],
      "metadata": {
        "colab": {
          "base_uri": "https://localhost:8080/",
          "height": 175
        },
        "id": "FGDX0rRG0amB",
        "outputId": "97a5fec9-c81c-4c39-82b5-dae27453055e"
      },
      "execution_count": 89,
      "outputs": [
        {
          "output_type": "execute_result",
          "data": {
            "text/plain": [
              "   mean_test_score  mean_train_score                                    params\n",
              "1         0.958272          0.963551   {'regr__alpha': 0.1, 'regr__degree': 2}\n",
              "0         0.958198          0.963610  {'regr__alpha': 0.01, 'regr__degree': 2}\n",
              "2         0.957013          0.961668     {'regr__alpha': 1, 'regr__degree': 2}\n",
              "3         0.933227          0.937107    {'regr__alpha': 10, 'regr__degree': 2}"
            ],
            "text/html": [
              "\n",
              "  <div id=\"df-bb743626-3999-4a9b-bd75-d6736b717fab\" class=\"colab-df-container\">\n",
              "    <div>\n",
              "<style scoped>\n",
              "    .dataframe tbody tr th:only-of-type {\n",
              "        vertical-align: middle;\n",
              "    }\n",
              "\n",
              "    .dataframe tbody tr th {\n",
              "        vertical-align: top;\n",
              "    }\n",
              "\n",
              "    .dataframe thead th {\n",
              "        text-align: right;\n",
              "    }\n",
              "</style>\n",
              "<table border=\"1\" class=\"dataframe\">\n",
              "  <thead>\n",
              "    <tr style=\"text-align: right;\">\n",
              "      <th></th>\n",
              "      <th>mean_test_score</th>\n",
              "      <th>mean_train_score</th>\n",
              "      <th>params</th>\n",
              "    </tr>\n",
              "  </thead>\n",
              "  <tbody>\n",
              "    <tr>\n",
              "      <th>1</th>\n",
              "      <td>0.958272</td>\n",
              "      <td>0.963551</td>\n",
              "      <td>{'regr__alpha': 0.1, 'regr__degree': 2}</td>\n",
              "    </tr>\n",
              "    <tr>\n",
              "      <th>0</th>\n",
              "      <td>0.958198</td>\n",
              "      <td>0.963610</td>\n",
              "      <td>{'regr__alpha': 0.01, 'regr__degree': 2}</td>\n",
              "    </tr>\n",
              "    <tr>\n",
              "      <th>2</th>\n",
              "      <td>0.957013</td>\n",
              "      <td>0.961668</td>\n",
              "      <td>{'regr__alpha': 1, 'regr__degree': 2}</td>\n",
              "    </tr>\n",
              "    <tr>\n",
              "      <th>3</th>\n",
              "      <td>0.933227</td>\n",
              "      <td>0.937107</td>\n",
              "      <td>{'regr__alpha': 10, 'regr__degree': 2}</td>\n",
              "    </tr>\n",
              "  </tbody>\n",
              "</table>\n",
              "</div>\n",
              "    <div class=\"colab-df-buttons\">\n",
              "\n",
              "  <div class=\"colab-df-container\">\n",
              "    <button class=\"colab-df-convert\" onclick=\"convertToInteractive('df-bb743626-3999-4a9b-bd75-d6736b717fab')\"\n",
              "            title=\"Convert this dataframe to an interactive table.\"\n",
              "            style=\"display:none;\">\n",
              "\n",
              "  <svg xmlns=\"http://www.w3.org/2000/svg\" height=\"24px\" viewBox=\"0 -960 960 960\">\n",
              "    <path d=\"M120-120v-720h720v720H120Zm60-500h600v-160H180v160Zm220 220h160v-160H400v160Zm0 220h160v-160H400v160ZM180-400h160v-160H180v160Zm440 0h160v-160H620v160ZM180-180h160v-160H180v160Zm440 0h160v-160H620v160Z\"/>\n",
              "  </svg>\n",
              "    </button>\n",
              "\n",
              "  <style>\n",
              "    .colab-df-container {\n",
              "      display:flex;\n",
              "      gap: 12px;\n",
              "    }\n",
              "\n",
              "    .colab-df-convert {\n",
              "      background-color: #E8F0FE;\n",
              "      border: none;\n",
              "      border-radius: 50%;\n",
              "      cursor: pointer;\n",
              "      display: none;\n",
              "      fill: #1967D2;\n",
              "      height: 32px;\n",
              "      padding: 0 0 0 0;\n",
              "      width: 32px;\n",
              "    }\n",
              "\n",
              "    .colab-df-convert:hover {\n",
              "      background-color: #E2EBFA;\n",
              "      box-shadow: 0px 1px 2px rgba(60, 64, 67, 0.3), 0px 1px 3px 1px rgba(60, 64, 67, 0.15);\n",
              "      fill: #174EA6;\n",
              "    }\n",
              "\n",
              "    .colab-df-buttons div {\n",
              "      margin-bottom: 4px;\n",
              "    }\n",
              "\n",
              "    [theme=dark] .colab-df-convert {\n",
              "      background-color: #3B4455;\n",
              "      fill: #D2E3FC;\n",
              "    }\n",
              "\n",
              "    [theme=dark] .colab-df-convert:hover {\n",
              "      background-color: #434B5C;\n",
              "      box-shadow: 0px 1px 3px 1px rgba(0, 0, 0, 0.15);\n",
              "      filter: drop-shadow(0px 1px 2px rgba(0, 0, 0, 0.3));\n",
              "      fill: #FFFFFF;\n",
              "    }\n",
              "  </style>\n",
              "\n",
              "    <script>\n",
              "      const buttonEl =\n",
              "        document.querySelector('#df-bb743626-3999-4a9b-bd75-d6736b717fab button.colab-df-convert');\n",
              "      buttonEl.style.display =\n",
              "        google.colab.kernel.accessAllowed ? 'block' : 'none';\n",
              "\n",
              "      async function convertToInteractive(key) {\n",
              "        const element = document.querySelector('#df-bb743626-3999-4a9b-bd75-d6736b717fab');\n",
              "        const dataTable =\n",
              "          await google.colab.kernel.invokeFunction('convertToInteractive',\n",
              "                                                    [key], {});\n",
              "        if (!dataTable) return;\n",
              "\n",
              "        const docLinkHtml = 'Like what you see? Visit the ' +\n",
              "          '<a target=\"_blank\" href=https://colab.research.google.com/notebooks/data_table.ipynb>data table notebook</a>'\n",
              "          + ' to learn more about interactive tables.';\n",
              "        element.innerHTML = '';\n",
              "        dataTable['output_type'] = 'display_data';\n",
              "        await google.colab.output.renderOutput(dataTable, element);\n",
              "        const docLink = document.createElement('div');\n",
              "        docLink.innerHTML = docLinkHtml;\n",
              "        element.appendChild(docLink);\n",
              "      }\n",
              "    </script>\n",
              "  </div>\n",
              "\n",
              "\n",
              "<div id=\"df-f624e4bd-4aa5-42ef-9fcb-85cae5aed14b\">\n",
              "  <button class=\"colab-df-quickchart\" onclick=\"quickchart('df-f624e4bd-4aa5-42ef-9fcb-85cae5aed14b')\"\n",
              "            title=\"Suggest charts\"\n",
              "            style=\"display:none;\">\n",
              "\n",
              "<svg xmlns=\"http://www.w3.org/2000/svg\" height=\"24px\"viewBox=\"0 0 24 24\"\n",
              "     width=\"24px\">\n",
              "    <g>\n",
              "        <path d=\"M19 3H5c-1.1 0-2 .9-2 2v14c0 1.1.9 2 2 2h14c1.1 0 2-.9 2-2V5c0-1.1-.9-2-2-2zM9 17H7v-7h2v7zm4 0h-2V7h2v10zm4 0h-2v-4h2v4z\"/>\n",
              "    </g>\n",
              "</svg>\n",
              "  </button>\n",
              "\n",
              "<style>\n",
              "  .colab-df-quickchart {\n",
              "      --bg-color: #E8F0FE;\n",
              "      --fill-color: #1967D2;\n",
              "      --hover-bg-color: #E2EBFA;\n",
              "      --hover-fill-color: #174EA6;\n",
              "      --disabled-fill-color: #AAA;\n",
              "      --disabled-bg-color: #DDD;\n",
              "  }\n",
              "\n",
              "  [theme=dark] .colab-df-quickchart {\n",
              "      --bg-color: #3B4455;\n",
              "      --fill-color: #D2E3FC;\n",
              "      --hover-bg-color: #434B5C;\n",
              "      --hover-fill-color: #FFFFFF;\n",
              "      --disabled-bg-color: #3B4455;\n",
              "      --disabled-fill-color: #666;\n",
              "  }\n",
              "\n",
              "  .colab-df-quickchart {\n",
              "    background-color: var(--bg-color);\n",
              "    border: none;\n",
              "    border-radius: 50%;\n",
              "    cursor: pointer;\n",
              "    display: none;\n",
              "    fill: var(--fill-color);\n",
              "    height: 32px;\n",
              "    padding: 0;\n",
              "    width: 32px;\n",
              "  }\n",
              "\n",
              "  .colab-df-quickchart:hover {\n",
              "    background-color: var(--hover-bg-color);\n",
              "    box-shadow: 0 1px 2px rgba(60, 64, 67, 0.3), 0 1px 3px 1px rgba(60, 64, 67, 0.15);\n",
              "    fill: var(--button-hover-fill-color);\n",
              "  }\n",
              "\n",
              "  .colab-df-quickchart-complete:disabled,\n",
              "  .colab-df-quickchart-complete:disabled:hover {\n",
              "    background-color: var(--disabled-bg-color);\n",
              "    fill: var(--disabled-fill-color);\n",
              "    box-shadow: none;\n",
              "  }\n",
              "\n",
              "  .colab-df-spinner {\n",
              "    border: 2px solid var(--fill-color);\n",
              "    border-color: transparent;\n",
              "    border-bottom-color: var(--fill-color);\n",
              "    animation:\n",
              "      spin 1s steps(1) infinite;\n",
              "  }\n",
              "\n",
              "  @keyframes spin {\n",
              "    0% {\n",
              "      border-color: transparent;\n",
              "      border-bottom-color: var(--fill-color);\n",
              "      border-left-color: var(--fill-color);\n",
              "    }\n",
              "    20% {\n",
              "      border-color: transparent;\n",
              "      border-left-color: var(--fill-color);\n",
              "      border-top-color: var(--fill-color);\n",
              "    }\n",
              "    30% {\n",
              "      border-color: transparent;\n",
              "      border-left-color: var(--fill-color);\n",
              "      border-top-color: var(--fill-color);\n",
              "      border-right-color: var(--fill-color);\n",
              "    }\n",
              "    40% {\n",
              "      border-color: transparent;\n",
              "      border-right-color: var(--fill-color);\n",
              "      border-top-color: var(--fill-color);\n",
              "    }\n",
              "    60% {\n",
              "      border-color: transparent;\n",
              "      border-right-color: var(--fill-color);\n",
              "    }\n",
              "    80% {\n",
              "      border-color: transparent;\n",
              "      border-right-color: var(--fill-color);\n",
              "      border-bottom-color: var(--fill-color);\n",
              "    }\n",
              "    90% {\n",
              "      border-color: transparent;\n",
              "      border-bottom-color: var(--fill-color);\n",
              "    }\n",
              "  }\n",
              "</style>\n",
              "\n",
              "  <script>\n",
              "    async function quickchart(key) {\n",
              "      const quickchartButtonEl =\n",
              "        document.querySelector('#' + key + ' button');\n",
              "      quickchartButtonEl.disabled = true;  // To prevent multiple clicks.\n",
              "      quickchartButtonEl.classList.add('colab-df-spinner');\n",
              "      try {\n",
              "        const charts = await google.colab.kernel.invokeFunction(\n",
              "            'suggestCharts', [key], {});\n",
              "      } catch (error) {\n",
              "        console.error('Error during call to suggestCharts:', error);\n",
              "      }\n",
              "      quickchartButtonEl.classList.remove('colab-df-spinner');\n",
              "      quickchartButtonEl.classList.add('colab-df-quickchart-complete');\n",
              "    }\n",
              "    (() => {\n",
              "      let quickchartButtonEl =\n",
              "        document.querySelector('#df-f624e4bd-4aa5-42ef-9fcb-85cae5aed14b button');\n",
              "      quickchartButtonEl.style.display =\n",
              "        google.colab.kernel.accessAllowed ? 'block' : 'none';\n",
              "    })();\n",
              "  </script>\n",
              "</div>\n",
              "    </div>\n",
              "  </div>\n"
            ],
            "application/vnd.google.colaboratory.intrinsic+json": {
              "type": "dataframe",
              "summary": "{\n  \"name\": \"pd\",\n  \"rows\": 4,\n  \"fields\": [\n    {\n      \"column\": \"mean_test_score\",\n      \"properties\": {\n        \"dtype\": \"number\",\n        \"std\": 0.01231407370584402,\n        \"min\": 0.9332267187199568,\n        \"max\": 0.9582724593061052,\n        \"num_unique_values\": 4,\n        \"samples\": [\n          0.9581977389417373,\n          0.9332267187199568,\n          0.9582724593061052\n        ],\n        \"semantic_type\": \"\",\n        \"description\": \"\"\n      }\n    },\n    {\n      \"column\": \"mean_train_score\",\n      \"properties\": {\n        \"dtype\": \"number\",\n        \"std\": 0.012949359030791209,\n        \"min\": 0.9371070847592595,\n        \"max\": 0.9636103753019969,\n        \"num_unique_values\": 4,\n        \"samples\": [\n          0.9636103753019969,\n          0.9371070847592595,\n          0.96355062147084\n        ],\n        \"semantic_type\": \"\",\n        \"description\": \"\"\n      }\n    },\n    {\n      \"column\": \"params\",\n      \"properties\": {\n        \"dtype\": \"object\",\n        \"semantic_type\": \"\",\n        \"description\": \"\"\n      }\n    }\n  ]\n}"
            }
          },
          "metadata": {},
          "execution_count": 89
        }
      ]
    },
    {
      "cell_type": "markdown",
      "metadata": {
        "id": "R1fjfma_Nrur"
      },
      "source": [
        "Possiamo vedere che l'accuratezza migliora rispetto ai modelli lineari."
      ]
    },
    {
      "cell_type": "markdown",
      "metadata": {
        "id": "8FqssNO4Ty8q"
      },
      "source": [
        "###Random Forest\n",
        "Vediamo ora per confronto cosa accade con un modello di regressione random forest testando diversi valori per gli iperparametri che regolano la complessità del modello."
      ]
    },
    {
      "cell_type": "code",
      "execution_count": 94,
      "metadata": {
        "colab": {
          "base_uri": "https://localhost:8080/",
          "height": 143
        },
        "id": "hS-kOyZmG6Bv",
        "outputId": "8eb26ee8-2090-49ad-d23f-e439117f3fe4"
      },
      "outputs": [
        {
          "output_type": "execute_result",
          "data": {
            "text/plain": [
              "   mean_test_score  mean_train_score  \\\n",
              "5         0.922893          0.957392   \n",
              "4         0.917416          0.951909   \n",
              "2         0.914017          0.941865   \n",
              "\n",
              "                                              params  \n",
              "5  {'max_features': 'sqrt', 'max_samples': 0.3, '...  \n",
              "4  {'max_features': 'sqrt', 'max_samples': 0.3, '...  \n",
              "2  {'max_features': 'sqrt', 'max_samples': 0.2, '...  "
            ],
            "text/html": [
              "\n",
              "  <div id=\"df-7655051d-059f-4804-95ad-c0c9d02e9110\" class=\"colab-df-container\">\n",
              "    <div>\n",
              "<style scoped>\n",
              "    .dataframe tbody tr th:only-of-type {\n",
              "        vertical-align: middle;\n",
              "    }\n",
              "\n",
              "    .dataframe tbody tr th {\n",
              "        vertical-align: top;\n",
              "    }\n",
              "\n",
              "    .dataframe thead th {\n",
              "        text-align: right;\n",
              "    }\n",
              "</style>\n",
              "<table border=\"1\" class=\"dataframe\">\n",
              "  <thead>\n",
              "    <tr style=\"text-align: right;\">\n",
              "      <th></th>\n",
              "      <th>mean_test_score</th>\n",
              "      <th>mean_train_score</th>\n",
              "      <th>params</th>\n",
              "    </tr>\n",
              "  </thead>\n",
              "  <tbody>\n",
              "    <tr>\n",
              "      <th>5</th>\n",
              "      <td>0.922893</td>\n",
              "      <td>0.957392</td>\n",
              "      <td>{'max_features': 'sqrt', 'max_samples': 0.3, '...</td>\n",
              "    </tr>\n",
              "    <tr>\n",
              "      <th>4</th>\n",
              "      <td>0.917416</td>\n",
              "      <td>0.951909</td>\n",
              "      <td>{'max_features': 'sqrt', 'max_samples': 0.3, '...</td>\n",
              "    </tr>\n",
              "    <tr>\n",
              "      <th>2</th>\n",
              "      <td>0.914017</td>\n",
              "      <td>0.941865</td>\n",
              "      <td>{'max_features': 'sqrt', 'max_samples': 0.2, '...</td>\n",
              "    </tr>\n",
              "  </tbody>\n",
              "</table>\n",
              "</div>\n",
              "    <div class=\"colab-df-buttons\">\n",
              "\n",
              "  <div class=\"colab-df-container\">\n",
              "    <button class=\"colab-df-convert\" onclick=\"convertToInteractive('df-7655051d-059f-4804-95ad-c0c9d02e9110')\"\n",
              "            title=\"Convert this dataframe to an interactive table.\"\n",
              "            style=\"display:none;\">\n",
              "\n",
              "  <svg xmlns=\"http://www.w3.org/2000/svg\" height=\"24px\" viewBox=\"0 -960 960 960\">\n",
              "    <path d=\"M120-120v-720h720v720H120Zm60-500h600v-160H180v160Zm220 220h160v-160H400v160Zm0 220h160v-160H400v160ZM180-400h160v-160H180v160Zm440 0h160v-160H620v160ZM180-180h160v-160H180v160Zm440 0h160v-160H620v160Z\"/>\n",
              "  </svg>\n",
              "    </button>\n",
              "\n",
              "  <style>\n",
              "    .colab-df-container {\n",
              "      display:flex;\n",
              "      gap: 12px;\n",
              "    }\n",
              "\n",
              "    .colab-df-convert {\n",
              "      background-color: #E8F0FE;\n",
              "      border: none;\n",
              "      border-radius: 50%;\n",
              "      cursor: pointer;\n",
              "      display: none;\n",
              "      fill: #1967D2;\n",
              "      height: 32px;\n",
              "      padding: 0 0 0 0;\n",
              "      width: 32px;\n",
              "    }\n",
              "\n",
              "    .colab-df-convert:hover {\n",
              "      background-color: #E2EBFA;\n",
              "      box-shadow: 0px 1px 2px rgba(60, 64, 67, 0.3), 0px 1px 3px 1px rgba(60, 64, 67, 0.15);\n",
              "      fill: #174EA6;\n",
              "    }\n",
              "\n",
              "    .colab-df-buttons div {\n",
              "      margin-bottom: 4px;\n",
              "    }\n",
              "\n",
              "    [theme=dark] .colab-df-convert {\n",
              "      background-color: #3B4455;\n",
              "      fill: #D2E3FC;\n",
              "    }\n",
              "\n",
              "    [theme=dark] .colab-df-convert:hover {\n",
              "      background-color: #434B5C;\n",
              "      box-shadow: 0px 1px 3px 1px rgba(0, 0, 0, 0.15);\n",
              "      filter: drop-shadow(0px 1px 2px rgba(0, 0, 0, 0.3));\n",
              "      fill: #FFFFFF;\n",
              "    }\n",
              "  </style>\n",
              "\n",
              "    <script>\n",
              "      const buttonEl =\n",
              "        document.querySelector('#df-7655051d-059f-4804-95ad-c0c9d02e9110 button.colab-df-convert');\n",
              "      buttonEl.style.display =\n",
              "        google.colab.kernel.accessAllowed ? 'block' : 'none';\n",
              "\n",
              "      async function convertToInteractive(key) {\n",
              "        const element = document.querySelector('#df-7655051d-059f-4804-95ad-c0c9d02e9110');\n",
              "        const dataTable =\n",
              "          await google.colab.kernel.invokeFunction('convertToInteractive',\n",
              "                                                    [key], {});\n",
              "        if (!dataTable) return;\n",
              "\n",
              "        const docLinkHtml = 'Like what you see? Visit the ' +\n",
              "          '<a target=\"_blank\" href=https://colab.research.google.com/notebooks/data_table.ipynb>data table notebook</a>'\n",
              "          + ' to learn more about interactive tables.';\n",
              "        element.innerHTML = '';\n",
              "        dataTable['output_type'] = 'display_data';\n",
              "        await google.colab.output.renderOutput(dataTable, element);\n",
              "        const docLink = document.createElement('div');\n",
              "        docLink.innerHTML = docLinkHtml;\n",
              "        element.appendChild(docLink);\n",
              "      }\n",
              "    </script>\n",
              "  </div>\n",
              "\n",
              "\n",
              "<div id=\"df-7288c459-99e4-4f93-a3a1-db3a0767fb7a\">\n",
              "  <button class=\"colab-df-quickchart\" onclick=\"quickchart('df-7288c459-99e4-4f93-a3a1-db3a0767fb7a')\"\n",
              "            title=\"Suggest charts\"\n",
              "            style=\"display:none;\">\n",
              "\n",
              "<svg xmlns=\"http://www.w3.org/2000/svg\" height=\"24px\"viewBox=\"0 0 24 24\"\n",
              "     width=\"24px\">\n",
              "    <g>\n",
              "        <path d=\"M19 3H5c-1.1 0-2 .9-2 2v14c0 1.1.9 2 2 2h14c1.1 0 2-.9 2-2V5c0-1.1-.9-2-2-2zM9 17H7v-7h2v7zm4 0h-2V7h2v10zm4 0h-2v-4h2v4z\"/>\n",
              "    </g>\n",
              "</svg>\n",
              "  </button>\n",
              "\n",
              "<style>\n",
              "  .colab-df-quickchart {\n",
              "      --bg-color: #E8F0FE;\n",
              "      --fill-color: #1967D2;\n",
              "      --hover-bg-color: #E2EBFA;\n",
              "      --hover-fill-color: #174EA6;\n",
              "      --disabled-fill-color: #AAA;\n",
              "      --disabled-bg-color: #DDD;\n",
              "  }\n",
              "\n",
              "  [theme=dark] .colab-df-quickchart {\n",
              "      --bg-color: #3B4455;\n",
              "      --fill-color: #D2E3FC;\n",
              "      --hover-bg-color: #434B5C;\n",
              "      --hover-fill-color: #FFFFFF;\n",
              "      --disabled-bg-color: #3B4455;\n",
              "      --disabled-fill-color: #666;\n",
              "  }\n",
              "\n",
              "  .colab-df-quickchart {\n",
              "    background-color: var(--bg-color);\n",
              "    border: none;\n",
              "    border-radius: 50%;\n",
              "    cursor: pointer;\n",
              "    display: none;\n",
              "    fill: var(--fill-color);\n",
              "    height: 32px;\n",
              "    padding: 0;\n",
              "    width: 32px;\n",
              "  }\n",
              "\n",
              "  .colab-df-quickchart:hover {\n",
              "    background-color: var(--hover-bg-color);\n",
              "    box-shadow: 0 1px 2px rgba(60, 64, 67, 0.3), 0 1px 3px 1px rgba(60, 64, 67, 0.15);\n",
              "    fill: var(--button-hover-fill-color);\n",
              "  }\n",
              "\n",
              "  .colab-df-quickchart-complete:disabled,\n",
              "  .colab-df-quickchart-complete:disabled:hover {\n",
              "    background-color: var(--disabled-bg-color);\n",
              "    fill: var(--disabled-fill-color);\n",
              "    box-shadow: none;\n",
              "  }\n",
              "\n",
              "  .colab-df-spinner {\n",
              "    border: 2px solid var(--fill-color);\n",
              "    border-color: transparent;\n",
              "    border-bottom-color: var(--fill-color);\n",
              "    animation:\n",
              "      spin 1s steps(1) infinite;\n",
              "  }\n",
              "\n",
              "  @keyframes spin {\n",
              "    0% {\n",
              "      border-color: transparent;\n",
              "      border-bottom-color: var(--fill-color);\n",
              "      border-left-color: var(--fill-color);\n",
              "    }\n",
              "    20% {\n",
              "      border-color: transparent;\n",
              "      border-left-color: var(--fill-color);\n",
              "      border-top-color: var(--fill-color);\n",
              "    }\n",
              "    30% {\n",
              "      border-color: transparent;\n",
              "      border-left-color: var(--fill-color);\n",
              "      border-top-color: var(--fill-color);\n",
              "      border-right-color: var(--fill-color);\n",
              "    }\n",
              "    40% {\n",
              "      border-color: transparent;\n",
              "      border-right-color: var(--fill-color);\n",
              "      border-top-color: var(--fill-color);\n",
              "    }\n",
              "    60% {\n",
              "      border-color: transparent;\n",
              "      border-right-color: var(--fill-color);\n",
              "    }\n",
              "    80% {\n",
              "      border-color: transparent;\n",
              "      border-right-color: var(--fill-color);\n",
              "      border-bottom-color: var(--fill-color);\n",
              "    }\n",
              "    90% {\n",
              "      border-color: transparent;\n",
              "      border-bottom-color: var(--fill-color);\n",
              "    }\n",
              "  }\n",
              "</style>\n",
              "\n",
              "  <script>\n",
              "    async function quickchart(key) {\n",
              "      const quickchartButtonEl =\n",
              "        document.querySelector('#' + key + ' button');\n",
              "      quickchartButtonEl.disabled = true;  // To prevent multiple clicks.\n",
              "      quickchartButtonEl.classList.add('colab-df-spinner');\n",
              "      try {\n",
              "        const charts = await google.colab.kernel.invokeFunction(\n",
              "            'suggestCharts', [key], {});\n",
              "      } catch (error) {\n",
              "        console.error('Error during call to suggestCharts:', error);\n",
              "      }\n",
              "      quickchartButtonEl.classList.remove('colab-df-spinner');\n",
              "      quickchartButtonEl.classList.add('colab-df-quickchart-complete');\n",
              "    }\n",
              "    (() => {\n",
              "      let quickchartButtonEl =\n",
              "        document.querySelector('#df-7288c459-99e4-4f93-a3a1-db3a0767fb7a button');\n",
              "      quickchartButtonEl.style.display =\n",
              "        google.colab.kernel.accessAllowed ? 'block' : 'none';\n",
              "    })();\n",
              "  </script>\n",
              "</div>\n",
              "    </div>\n",
              "  </div>\n"
            ],
            "application/vnd.google.colaboratory.intrinsic+json": {
              "type": "dataframe",
              "summary": "{\n  \"name\": \"pd\",\n  \"rows\": 3,\n  \"fields\": [\n    {\n      \"column\": \"mean_test_score\",\n      \"properties\": {\n        \"dtype\": \"number\",\n        \"std\": 0.004478409524650031,\n        \"min\": 0.9140168902680218,\n        \"max\": 0.9228930265396927,\n        \"num_unique_values\": 3,\n        \"samples\": [\n          0.9228930265396927,\n          0.9174161565572696,\n          0.9140168902680218\n        ],\n        \"semantic_type\": \"\",\n        \"description\": \"\"\n      }\n    },\n    {\n      \"column\": \"mean_train_score\",\n      \"properties\": {\n        \"dtype\": \"number\",\n        \"std\": 0.007874206606813051,\n        \"min\": 0.9418653403901869,\n        \"max\": 0.9573921394675932,\n        \"num_unique_values\": 3,\n        \"samples\": [\n          0.9573921394675932,\n          0.9519087118295341,\n          0.9418653403901869\n        ],\n        \"semantic_type\": \"\",\n        \"description\": \"\"\n      }\n    },\n    {\n      \"column\": \"params\",\n      \"properties\": {\n        \"dtype\": \"object\",\n        \"semantic_type\": \"\",\n        \"description\": \"\"\n      }\n    }\n  ]\n}"
            }
          },
          "metadata": {},
          "execution_count": 94
        }
      ],
      "source": [
        "from sklearn.ensemble import RandomForestRegressor\n",
        "\n",
        "model = RandomForestRegressor(random_state=42)\n",
        "grid = {\n",
        "    \"max_samples\": [0.2,0.3],\n",
        "    \"n_estimators\": [10,20,100],\n",
        "    \"max_features\": [\"sqrt\"]\n",
        "}\n",
        "\n",
        "gs = GridSearchCV(model, param_grid=grid, cv=5, return_train_score=True, n_jobs=-1)\n",
        "\n",
        "gs.fit(X_train, y_train)\n",
        "pd.DataFrame(gs.cv_results_).sort_values(\"mean_test_score\", ascending=False).iloc[:3][sel]"
      ]
    },
    {
      "cell_type": "code",
      "execution_count": 95,
      "metadata": {
        "colab": {
          "base_uri": "https://localhost:8080/"
        },
        "id": "D9sWI9ntMXun",
        "outputId": "38f7293f-28bd-4780-b0ce-4c5e7bd82c13"
      },
      "outputs": [
        {
          "output_type": "stream",
          "name": "stdout",
          "text": [
            "R-Squared::0.9228930265396927\n",
            "Best Hyperparameters::\n",
            "{'max_features': 'sqrt', 'max_samples': 0.3, 'n_estimators': 100}\n"
          ]
        }
      ],
      "source": [
        "print(\"R-Squared::{}\".format(gs.best_score_))\n",
        "print(\"Best Hyperparameters::\\n{}\".format(gs.best_params_))"
      ]
    },
    {
      "cell_type": "markdown",
      "metadata": {
        "id": "-cd2sty45_hF"
      },
      "source": [
        "###XGBoost\n",
        "Testiamo infine XGBoost, un modello basato su gradient boosting, in cui gli alberi decisionali vengono creati in sequenza dagli errori residui del precedente."
      ]
    },
    {
      "cell_type": "code",
      "execution_count": 103,
      "metadata": {
        "colab": {
          "base_uri": "https://localhost:8080/"
        },
        "id": "Choaoykv5NmN",
        "outputId": "bad8c368-2dfc-450f-f2e2-ccf4bada9851"
      },
      "outputs": [
        {
          "output_type": "execute_result",
          "data": {
            "text/plain": [
              "0.9586909832613936"
            ]
          },
          "metadata": {},
          "execution_count": 103
        }
      ],
      "source": [
        "from xgboost import XGBRegressor\n",
        "\n",
        "xgbm = XGBRegressor(objective='reg:squarederror', reg_alpha=0.0, reg_lambda=1.0, n_estimators=200)\n",
        "xgbm.fit(X_train, y_train)\n",
        "xgbm.score(X_val, y_val)"
      ]
    },
    {
      "cell_type": "markdown",
      "metadata": {
        "id": "2NzETF-zWLdK"
      },
      "source": [
        "##Valutazione dei modelli migliori\n",
        "Il modello di regressione con funzione kernel polinomiale e XGBoost ci hanno dato i risultati migliori. Andiamo a valutare questi modelli in modo più approfondito usando diverse metriche di valutazione."
      ]
    },
    {
      "cell_type": "code",
      "execution_count": 115,
      "metadata": {
        "id": "RP1nl8Pu6T3S"
      },
      "outputs": [],
      "source": [
        "from sklearn.metrics import mean_squared_error, r2_score\n",
        "\n",
        "def rmspe(y_real, y_pred):\n",
        "    return np.sqrt(np.mean((y_pred /y_real - 1) ** 2))\n",
        "\n",
        "def print_eval_for_tree(X, y, model):\n",
        "    y_pred = model.predict(X)\n",
        "    r2 = r2_score(y, y_pred)\n",
        "    n = X.shape[0]\n",
        "    p = X.shape[1]\n",
        "    r2_agg = 1- (1-r2)*((n-1)/(n-p))\n",
        "    print(f\"      MSE: {mean_squared_error(y, y_pred):12.4f}\")\n",
        "    print(f\"R-squared: {r2:12.4f}\")\n",
        "    print(f\"R-squared-agg coefficient: {r2_agg:.5}\")\n",
        "    print(f\"    RMSPE: {rmspe(y, y_pred):12.4f}\")\n",
        "\n",
        "def evaluate_model_for_tree(X, y, model):\n",
        "    print_eval_for_tree(X, y, model)\n",
        "\n",
        "    y_pred=model.predict(X)\n",
        "    plt.title(\"Actual v/s Predicted bike count\")\n",
        "    ax1 = sns.distplot(y,hist=False,color=\"green\",label=\"Actual\")\n",
        "    sns.distplot(y_pred,hist=False,color='red',label=\"Predicted\",ax = ax1)\n",
        "    plt.legend(title='legend', loc='upper right', labels=['Actual Value', 'Predicted Value'])\n",
        "    plt.show()"
      ]
    },
    {
      "cell_type": "markdown",
      "source": [
        "Addestriamo il modello di regressione con funzione kernel con i parametri migliori individuati con la grid search:"
      ],
      "metadata": {
        "id": "stW7PILm-6hu"
      }
    },
    {
      "cell_type": "code",
      "execution_count": 109,
      "metadata": {
        "id": "gJaej1aSNvYe",
        "colab": {
          "base_uri": "https://localhost:8080/",
          "height": 125
        },
        "outputId": "4c8aa7df-07e9-4ed3-90a0-a52cdc39e16c"
      },
      "outputs": [
        {
          "output_type": "execute_result",
          "data": {
            "text/plain": [
              "Pipeline(steps=[('scale', StandardScaler()),\n",
              "                ('regr', KernelRidge(alpha=0.1, degree=2, kernel='poly'))])"
            ],
            "text/html": [
              "<style>#sk-container-id-5 {color: black;background-color: white;}#sk-container-id-5 pre{padding: 0;}#sk-container-id-5 div.sk-toggleable {background-color: white;}#sk-container-id-5 label.sk-toggleable__label {cursor: pointer;display: block;width: 100%;margin-bottom: 0;padding: 0.3em;box-sizing: border-box;text-align: center;}#sk-container-id-5 label.sk-toggleable__label-arrow:before {content: \"▸\";float: left;margin-right: 0.25em;color: #696969;}#sk-container-id-5 label.sk-toggleable__label-arrow:hover:before {color: black;}#sk-container-id-5 div.sk-estimator:hover label.sk-toggleable__label-arrow:before {color: black;}#sk-container-id-5 div.sk-toggleable__content {max-height: 0;max-width: 0;overflow: hidden;text-align: left;background-color: #f0f8ff;}#sk-container-id-5 div.sk-toggleable__content pre {margin: 0.2em;color: black;border-radius: 0.25em;background-color: #f0f8ff;}#sk-container-id-5 input.sk-toggleable__control:checked~div.sk-toggleable__content {max-height: 200px;max-width: 100%;overflow: auto;}#sk-container-id-5 input.sk-toggleable__control:checked~label.sk-toggleable__label-arrow:before {content: \"▾\";}#sk-container-id-5 div.sk-estimator input.sk-toggleable__control:checked~label.sk-toggleable__label {background-color: #d4ebff;}#sk-container-id-5 div.sk-label input.sk-toggleable__control:checked~label.sk-toggleable__label {background-color: #d4ebff;}#sk-container-id-5 input.sk-hidden--visually {border: 0;clip: rect(1px 1px 1px 1px);clip: rect(1px, 1px, 1px, 1px);height: 1px;margin: -1px;overflow: hidden;padding: 0;position: absolute;width: 1px;}#sk-container-id-5 div.sk-estimator {font-family: monospace;background-color: #f0f8ff;border: 1px dotted black;border-radius: 0.25em;box-sizing: border-box;margin-bottom: 0.5em;}#sk-container-id-5 div.sk-estimator:hover {background-color: #d4ebff;}#sk-container-id-5 div.sk-parallel-item::after {content: \"\";width: 100%;border-bottom: 1px solid gray;flex-grow: 1;}#sk-container-id-5 div.sk-label:hover label.sk-toggleable__label {background-color: #d4ebff;}#sk-container-id-5 div.sk-serial::before {content: \"\";position: absolute;border-left: 1px solid gray;box-sizing: border-box;top: 0;bottom: 0;left: 50%;z-index: 0;}#sk-container-id-5 div.sk-serial {display: flex;flex-direction: column;align-items: center;background-color: white;padding-right: 0.2em;padding-left: 0.2em;position: relative;}#sk-container-id-5 div.sk-item {position: relative;z-index: 1;}#sk-container-id-5 div.sk-parallel {display: flex;align-items: stretch;justify-content: center;background-color: white;position: relative;}#sk-container-id-5 div.sk-item::before, #sk-container-id-5 div.sk-parallel-item::before {content: \"\";position: absolute;border-left: 1px solid gray;box-sizing: border-box;top: 0;bottom: 0;left: 50%;z-index: -1;}#sk-container-id-5 div.sk-parallel-item {display: flex;flex-direction: column;z-index: 1;position: relative;background-color: white;}#sk-container-id-5 div.sk-parallel-item:first-child::after {align-self: flex-end;width: 50%;}#sk-container-id-5 div.sk-parallel-item:last-child::after {align-self: flex-start;width: 50%;}#sk-container-id-5 div.sk-parallel-item:only-child::after {width: 0;}#sk-container-id-5 div.sk-dashed-wrapped {border: 1px dashed gray;margin: 0 0.4em 0.5em 0.4em;box-sizing: border-box;padding-bottom: 0.4em;background-color: white;}#sk-container-id-5 div.sk-label label {font-family: monospace;font-weight: bold;display: inline-block;line-height: 1.2em;}#sk-container-id-5 div.sk-label-container {text-align: center;}#sk-container-id-5 div.sk-container {/* jupyter's `normalize.less` sets `[hidden] { display: none; }` but bootstrap.min.css set `[hidden] { display: none !important; }` so we also need the `!important` here to be able to override the default hidden behavior on the sphinx rendered scikit-learn.org. See: https://github.com/scikit-learn/scikit-learn/issues/21755 */display: inline-block !important;position: relative;}#sk-container-id-5 div.sk-text-repr-fallback {display: none;}</style><div id=\"sk-container-id-5\" class=\"sk-top-container\"><div class=\"sk-text-repr-fallback\"><pre>Pipeline(steps=[(&#x27;scale&#x27;, StandardScaler()),\n",
              "                (&#x27;regr&#x27;, KernelRidge(alpha=0.1, degree=2, kernel=&#x27;poly&#x27;))])</pre><b>In a Jupyter environment, please rerun this cell to show the HTML representation or trust the notebook. <br />On GitHub, the HTML representation is unable to render, please try loading this page with nbviewer.org.</b></div><div class=\"sk-container\" hidden><div class=\"sk-item sk-dashed-wrapped\"><div class=\"sk-label-container\"><div class=\"sk-label sk-toggleable\"><input class=\"sk-toggleable__control sk-hidden--visually\" id=\"sk-estimator-id-13\" type=\"checkbox\" ><label for=\"sk-estimator-id-13\" class=\"sk-toggleable__label sk-toggleable__label-arrow\">Pipeline</label><div class=\"sk-toggleable__content\"><pre>Pipeline(steps=[(&#x27;scale&#x27;, StandardScaler()),\n",
              "                (&#x27;regr&#x27;, KernelRidge(alpha=0.1, degree=2, kernel=&#x27;poly&#x27;))])</pre></div></div></div><div class=\"sk-serial\"><div class=\"sk-item\"><div class=\"sk-estimator sk-toggleable\"><input class=\"sk-toggleable__control sk-hidden--visually\" id=\"sk-estimator-id-14\" type=\"checkbox\" ><label for=\"sk-estimator-id-14\" class=\"sk-toggleable__label sk-toggleable__label-arrow\">StandardScaler</label><div class=\"sk-toggleable__content\"><pre>StandardScaler()</pre></div></div></div><div class=\"sk-item\"><div class=\"sk-estimator sk-toggleable\"><input class=\"sk-toggleable__control sk-hidden--visually\" id=\"sk-estimator-id-15\" type=\"checkbox\" ><label for=\"sk-estimator-id-15\" class=\"sk-toggleable__label sk-toggleable__label-arrow\">KernelRidge</label><div class=\"sk-toggleable__content\"><pre>KernelRidge(alpha=0.1, degree=2, kernel=&#x27;poly&#x27;)</pre></div></div></div></div></div></div></div>"
            ]
          },
          "metadata": {},
          "execution_count": 109
        }
      ],
      "source": [
        "kernel_model = Pipeline([\n",
        "    (\"scale\", StandardScaler()),\n",
        "    (\"regr\", KernelRidge(degree=2, alpha=0.1, kernel=\"poly\"))\n",
        "])\n",
        "\n",
        "kernel_model.fit(X_train, y_train)"
      ]
    },
    {
      "cell_type": "markdown",
      "metadata": {
        "id": "Nw7sKM1OXmgi"
      },
      "source": [
        "Confrontiamo ora come questi modelli si comportano su dati mai visti"
      ]
    },
    {
      "cell_type": "code",
      "execution_count": 120,
      "metadata": {
        "colab": {
          "base_uri": "https://localhost:8080/",
          "height": 559
        },
        "id": "L658G5wzXs6s",
        "outputId": "effcc36d-9cfc-4431-c272-1a5757f98750"
      },
      "outputs": [
        {
          "output_type": "stream",
          "name": "stdout",
          "text": [
            "Modello di regressione con kernel polinomiale:\n",
            "   Mean squared error: 9.4516\n",
            "       Relative error: 9.21764%\n",
            "R-squared coefficient: 0.9634\n",
            "R-squared-agg coefficient: 0.96314\n"
          ]
        },
        {
          "output_type": "display_data",
          "data": {
            "text/plain": [
              "<Figure size 640x480 with 1 Axes>"
            ],
            "image/png": "[encoded data removed]"
          },
          "metadata": {}
        }
      ],
      "source": [
        "print(\"Modello di regressione con kernel polinomiale:\")\n",
        "evaluate_model(X_val, y_val, poly_model)"
      ]
    },
    {
      "cell_type": "code",
      "source": [
        "print(\"XGBoost:\")\n",
        "evaluate_model_for_tree(X_val, y_val, xgbm)"
      ],
      "metadata": {
        "colab": {
          "base_uri": "https://localhost:8080/",
          "height": 559
        },
        "id": "jCXDlf3NWYOR",
        "outputId": "fe969d68-28b2-42d7-90e7-4025b026dd45"
      },
      "execution_count": 121,
      "outputs": [
        {
          "output_type": "stream",
          "name": "stdout",
          "text": [
            "XGBoost:\n",
            "      MSE:      10.6666\n",
            "R-squared:       0.9587\n",
            "R-squared-agg coefficient: 0.9584\n",
            "    RMSPE:       0.1572\n"
          ]
        },
        {
          "output_type": "display_data",
          "data": {
            "text/plain": [
              "<Figure size 640x480 with 1 Axes>"
            ],
            "image/png": "[encoded data removed]"
          },
          "metadata": {}
        }
      ]
    },
    {
      "cell_type": "markdown",
      "source": [
        "##Conclusioni\n",
        "Osservando i valori delle varie metriche e i grafici, possiamo concludere che il modello che meglio approssima i dati è il modello di regressione con kernel polinomiale. Analizzando i valori delle metriche si percepisce che il modello ha una buona capacità predittiva e che le previsioni generalmente hanno un errore abbastanza contenuto. Il _coefficiente di determinazione_ $R^2$ con un valore prossimo a 1 infatti indica che il modello si adatta bene ai dati osservati mentre i valori di _MSE_ e _errore relativo_ indicano che gli errori di previsione sono moderati e ben gestiti rispetto alla variabilità dei dati reali."
      ],
      "metadata": {
        "id": "M1nMo-EdKR6T"
      }
    }
  ],
  "metadata": {
    "colab": {
      "provenance": [],
      "toc_visible": true
    },
    "kernelspec": {
      "display_name": "Python 3",
      "name": "python3"
    },
    "language_info": {
      "name": "python"
    }
  },
  "nbformat": 4,
  "nbformat_minor": 0
}